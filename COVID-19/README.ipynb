{
 "cells": [
  {
   "cell_type": "markdown",
   "metadata": {},
   "source": [
    "## About\n",
    "\n",
    "Datasets and charts created by iMEdD Lab as part of the development of [iMEdD Lab's web application that tracks the spread of COVID-19 in Greece and around the world](https://lab.imedd.org/covid19/?lang=en). \n",
    "\n",
    "\n",
    "### Charts\n",
    "\n",
    "Interactive charts and maps that are available on the [statistical analysis page](https://lab.imedd.org/covid19/stats?lang=en) of the web application are available here in json files. They are updated several times a day. They are built with [plotly](https://plotly.com/) [python library](https://plotly.com/python/). See more at [open-data/scripts/COVID19](https://github.com/iMEdD-Lab/open-data/tree/master/scripts/COVID-19).\n",
    "\n",
    "\n",
    "### Datasets\n",
    "\n",
    "#### alerts.csv\n",
    "Alert messages go here. \n",
    "\n",
    "#### countriesMapping.csv & countries_names.csv\n",
    "Mapping countries names deriving from different sources "
   ]
  },
  {
   "cell_type": "code",
   "execution_count": null,
   "metadata": {},
   "outputs": [],
   "source": []
  }
 ],
 "metadata": {
  "kernelspec": {
   "display_name": "Python 3",
   "language": "python",
   "name": "python3"
  },
  "language_info": {
   "codemirror_mode": {
    "name": "ipython",
    "version": 3
   },
   "file_extension": ".py",
   "mimetype": "text/x-python",
   "name": "python",
   "nbconvert_exporter": "python",
   "pygments_lexer": "ipython3",
   "version": "3.7.4"
  }
 },
 "nbformat": 4,
 "nbformat_minor": 2
}
