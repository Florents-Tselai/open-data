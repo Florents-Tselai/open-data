{
 "cells": [
  {
   "cell_type": "markdown",
   "metadata": {},
   "source": [
    "## Imports"
   ]
  },
  {
   "cell_type": "code",
   "execution_count": 43,
   "metadata": {},
   "outputs": [],
   "source": [
    "import pandas as pd\n",
    "import numpy as np\n",
    "import plotly.graph_objects as go\n",
    "import plotly.express as px\n",
    "import plotly.tools as tls\n",
    "from ipywidgets import widgets\n",
    "import datetime\n",
    "import warnings\n",
    "warnings.filterwarnings(\"ignore\")"
   ]
  },
  {
   "cell_type": "code",
   "execution_count": 44,
   "metadata": {},
   "outputs": [],
   "source": [
    "pd.set_option('display.max_rows', 2500)\n",
    "pd.set_option('display.max_columns', 500)\n",
    "pd.set_option('display.width', 1000)\n",
    "pd.set_option('display.max_colwidth', None)"
   ]
  },
  {
   "cell_type": "markdown",
   "metadata": {},
   "source": [
    "## Data URLs "
   ]
  },
  {
   "cell_type": "code",
   "execution_count": 45,
   "metadata": {},
   "outputs": [],
   "source": [
    "baseHopkinsURL = \"https://raw.githubusercontent.com/CSSEGISandData/COVID-19/master/csse_covid_19_data/csse_covid_19_time_series/\"\n",
    "\n",
    "TICKFONT = dict(family=\"Roboto\", size=12, color=\"#114B5F\")\n",
    "\n",
    "TEXTFONT = dict(family=\"Roboto\", size=16, color=\"#114B5F\")\n",
    "\n",
    "XAXIS = dict(\n",
    "    showline=True,\n",
    "    zeroline=True,\n",
    "    showgrid=False,\n",
    "    showticklabels=True,\n",
    "    linecolor=\"#114B5F\",\n",
    "    linewidth=0.1,\n",
    "    ticks=\"outside\",\n",
    "    tickcolor=\"#BBBBBB\",\n",
    "    gridcolor=\"#F8FAFA\",\n",
    "    tickfont=TICKFONT,\n",
    ")\n",
    "\n",
    "YAXIS = dict(\n",
    "    showgrid=True,\n",
    "    gridcolor=\"#F8FAFA\",\n",
    "    zeroline=False,\n",
    "    showline=True,\n",
    "    showticklabels=True,\n",
    "    linecolor=\"#114B5F\",\n",
    "    linewidth=0.1,\n",
    "    ticks=\"outside\",\n",
    "    tickcolor=\"#BBBBBB\",\n",
    "    tickfont=TICKFONT,\n",
    ")\n",
    "\n",
    "TICKFONT_STYLE = dict(family=\"Roboto\", size=8, color=\"#114B5F\")\n",
    "\n",
    "TEXTFONT = dict(family=\"Roboto\", size=16, color=\"#114B5F\")\n",
    "\n",
    "XAXIS_STYLE = dict(\n",
    "    showline=True,\n",
    "    zeroline=False,\n",
    "    showgrid=True,\n",
    "    showticklabels=True,\n",
    "    linecolor=\"#114B5F\",\n",
    "    linewidth=0.1,\n",
    "    ticks=\"outside\",\n",
    "    tickcolor=\"#BBBBBB\",\n",
    "    gridcolor=\"#F8FAFA\",\n",
    "    tickfont=TICKFONT_STYLE,\n",
    ")\n",
    "\n",
    "YAXIS_STYLE = dict(\n",
    "    showgrid=True,\n",
    "    gridcolor=\"#F8FAFA\",\n",
    "    zeroline=False,\n",
    "    showline=True,\n",
    "    showticklabels=True,\n",
    "    linecolor=\"#114B5F\",\n",
    "    linewidth=0.1,\n",
    "    ticks=\"outside\",\n",
    "    tickcolor=\"#BBBBBB\",\n",
    "    tickfont=TICKFONT_STYLE,\n",
    ")\n",
    "\n",
    "YAXIS_STYLE2 = dict(\n",
    "    showgrid=True,\n",
    "    gridcolor=\"#F8FAFA\",\n",
    "    zeroline=False,\n",
    "    showline=False,\n",
    "    showticklabels=False,\n",
    "    linecolor=\"#114B5F\",\n",
    "    linewidth=0.1,\n",
    "    tickcolor=\"#BBBBBB\",\n",
    "    tickfont=TICKFONT_STYLE,\n",
    ")"
   ]
  },
  {
   "cell_type": "code",
   "execution_count": 46,
   "metadata": {},
   "outputs": [],
   "source": [
    "root_path='~/Desktop/'\n",
    "baseHopkinsURL = \"https://raw.githubusercontent.com/CSSEGISandData/COVID-19/master/csse_covid_19_data/csse_covid_19_time_series/\"\n",
    "confirmed_H_df = pd.read_csv(\n",
    "        baseHopkinsURL + \"time_series_covid19_confirmed_global.csv\"\n",
    "    )\n",
    "deaths_H_df = pd.read_csv(baseHopkinsURL + \"time_series_covid19_deaths_global.csv\")\n",
    "population_df = pd.read_csv(\n",
    "        \"https://app.workbenchdata.com/public/moduledata/live/302569.csv\",\n",
    "        usecols=[\"Country,Other\", \"Population (2020)\"],\n",
    "    )\n",
    "countries_df = pd.read_csv(\n",
    "        \"https://docs.google.com/spreadsheets/d/e/2PACX-1vRpR8AOJaRsB5by7H3R_GijtaY06J8srELipebO5B0jYEg9pKugT3C6Rk2RSQ5eyerQl7LolshamK27/pub?gid=906157277&single=true&output=csv\"\n",
    "    )\n",
    "regions_greece_cases = pd.read_csv(\n",
    "    'https://raw.githubusercontent.com/iMEdD-Lab/open-data/master/COVID-19/regions_greece_cases.csv'\n",
    "    )"
   ]
  },
  {
   "cell_type": "code",
   "execution_count": 47,
   "metadata": {},
   "outputs": [],
   "source": [
    "def heatmap(\n",
    "    data,\n",
    "    countries_df,\n",
    "    population,\n",
    "    columnName,\n",
    "    outputName,\n",
    "    titleGraphic,\n",
    "    keyWord,\n",
    "    show=False,\n",
    "    lang=\"EL\",\n",
    "):\n",
    "    \"\"\" φορτώνουμε το πρώτο αρχείο από το Hopkins\"\"\"\n",
    "    \n",
    "    df = data.drop([\"Lat\", \"Long\"], axis=1)\n",
    "    #CASES CORRECTIONS\n",
    "    if columnName=='cases':\n",
    "\n",
    "        #Honduras from 2100 to 2006 on 5/11\n",
    "        df.loc[df['Country/Region']=='Honduras','5/11/20']=2006\n",
    "    \n",
    "        #Portugal - correction of dublicates\n",
    "        df.loc[df['Country/Region']=='Portugal','4/30/20']=24884\n",
    "        df.loc[df['Country/Region']=='Portugal','5/1/20']=25190\n",
    "        df.loc[df['Country/Region']=='Portugal','5/2/20']=25190\n",
    "        \n",
    "    if columnName=='deaths':\n",
    "        df.loc[df['Country/Region']=='Sweden','8/6/20']-=3\n",
    "        df.loc[df['Country/Region']=='Cuba','8/13/20']-=1\n",
    "        df.loc[df['Country/Region']=='Austria','7/21/20']+=1\n",
    "\n",
    "    \"\"\" υπολογίζουμε το difference από ημέρα σε ημέρα, ώστε να βγάλουμε τα ΝΕΑ κρούσματα/θάνατοι ανά ημέρα\"\"\"\n",
    "    cols = df.columns.to_list()\n",
    "    df_dif = df[cols[4:]].diff(axis=1)\n",
    "    df = df_dif.join(df[\"Country/Region\"])\n",
    "    \"\"\" αλλάζουμε τα data από wide σε long + μετρέπουμε τη στήλη Date σε datetime\"\"\"\n",
    "    df = pd.melt(\n",
    "        df, id_vars=[\"Country/Region\"], var_name=\"Date\", value_name=columnName\n",
    "    ).astype({\"Date\": \"datetime64[ns]\", columnName: \"Int64\"}, errors=\"ignore\")\n",
    "\n",
    "    \"\"\" φορτώνουμε το αρχείο με την αντιστοίχιση ελληνικών - αγγλικών ονομάτων χωρών\"\"\"\n",
    "    gr = countries_df\n",
    "    \"\"\" το συνδέουμε με το dataframe από το Hopkins ώστε να προστεθεί το ADMIN_GR\"\"\"\n",
    "    df = pd.merge(df, gr, how=\"left\", left_on=\"Country/Region\", right_on=\"ADMIN\")\n",
    "\n",
    "    \"\"\" φορτώνουμε το αρχείο με τους πληθυσμούς\"\"\"\n",
    "    pop = population\n",
    "    \"\"\"συνδέουμε το dataframe με τα ελληνικά ονόματα \"\"\"\n",
    "    gr = pd.merge(gr, pop, how=\"right\", left_on=\"ADMIN\", right_on=\"Country,Other\")\n",
    "\n",
    "    \"\"\"Ενώνουμε το dataframe του Hopkins και εκείνο του population με βάση την στήλη με τα ελληνικά ονόματα\"\"\"\n",
    "    df = pd.merge(df, gr, how=\"left\", on=\"ADMIN_GR\")\n",
    "\n",
    "    \"\"\" υπολογίζουμε συγκεντρωτικά για κάθε χώρα τα κρούσματα και τους θανάτους ανά ημέρα\"\"\"\n",
    "    df = (\n",
    "        df.groupby([\"Country/Region\", \"Date\", \"ADMIN_GR\", \"Population (2020)\"])[\n",
    "            columnName\n",
    "        ]\n",
    "        .sum()\n",
    "        .reset_index()\n",
    "    )\n",
    "\n",
    "    \"\"\" ------------------- ΠΡΟΕΤΟΙΜΑΖΟΥΜΕ ΤΗ ΣΤΗΛΗ ΠΟΥ ΘΑ ΟΠΤΙΚΟΠΟΙΗΣΟΥΜΕ -----------------\"\"\"\n",
    "    df[columnName + \"_per_hundr\"] = (df[columnName] / df[\"Population (2020)\"]) * 100000\n",
    "\n",
    "    \"\"\" ------------------- ΕΠΙΛΕΓΟΥΜΕ ΤΙΣ ΧΩΡΕΣ ΜΕ ΠΑΡΟΜΟΙΟ ΠΛΗΘΥΣΜΟ ΜΕ ΤΗΝ ΕΛΛΑΔΑ -----------\"\"\"\n",
    "\n",
    "    df=df[(df['Population (2020)']>9000000)\n",
    "            & (df['Population (2020)']<12000000)\n",
    "            & (df['Date']>'2020-03-06')]\n",
    "    \n",
    "    if columnName=='cases':\n",
    "        df=df[(df[\"Country/Region\"] != \"Jordan\")]\n",
    "    \n",
    "    if columnName=='deaths':\n",
    "        df=df[(df[\"Country/Region\"] != \"Czechia\")]\n",
    "\n",
    "    \"\"\" ------------------- ΞΕΚΙΝΑ Η ΟΠΤΙΚΟΠΟΙΗΣΗ ------------------\"\"\"\n",
    "\n",
    "    countries_el = df[\"ADMIN_GR\"]\n",
    "    countries_en = df[\"Country/Region\"]\n",
    "    item = df[columnName + \"_per_hundr\"]\n",
    "    base = datetime.datetime.today()\n",
    "    dates = df[\"Date\"]\n",
    "\n",
    "    fig = go.Figure(\n",
    "        data=go.Heatmap(\n",
    "            z=item,\n",
    "            x=dates,\n",
    "            y=countries_el if lang == 'EL' else countries_en,\n",
    "            customdata=df[columnName],\n",
    "            showscale=True,\n",
    "            hovertemplate=\"<b>%{y}</b><br>\"\n",
    "            + \"<i>%{x}</i><br><br>\"\n",
    "            + \"%{customdata} \"\n",
    "            + keyWord\n",
    "            + \"<extra></extra>\",\n",
    "            colorscale=[\n",
    "                [0, \"#E6ECEC\"],  # 0\n",
    "                [1.0 / 10000, \"#dadada\"],  # 10\n",
    "                [1.0 / 1000, \"#d7dfe3\"],  # 100\n",
    "                [1.0 / 100, \"#b0bfc7\"],  # 1000\n",
    "                [1.0 / 10, \"#3f6678\"],  # 10000\n",
    "                [1.0, \"#BA3A0A\"],\n",
    "            ],\n",
    "            colorbar=dict(\n",
    "                title=keyWord + \"/<br>100 χιλ \" if lang == 'EL' else keyWord + \"/<br>100k \",\n",
    "                tick0=0,\n",
    "                tickmode=\"auto\",  # όταν το tickmode είναι array, τότε παίρνει τα values του tickvals\n",
    "                tickvals=[0, 1000, 1800],\n",
    "            ),\n",
    "        )\n",
    "    )\n",
    "\n",
    "    fig.update_layout(title=titleGraphic)\n",
    "\n",
    "    fig.update_layout(\n",
    "        hovermode=\"closest\",\n",
    "        hoverlabel=dict(bgcolor=\"white\", font_size=12, font_family=\"Roboto\"),\n",
    "        hoverlabel_align=\"left\",\n",
    "    )\n",
    "\n",
    "    fig.update_layout(\n",
    "        paper_bgcolor=\"#E6ECEC\",\n",
    "        plot_bgcolor=\"#E6ECEC\",\n",
    "        font=dict(family=\"Roboto\", size=11, color=\"#114B5F\"),\n",
    "    )\n",
    "\n",
    "    fig.update_layout(height=400, margin=dict(l=10, r=10, b=20, t=75, pad=10))\n",
    "\n",
    "    if show:\n",
    "        config = dict(\n",
    "            {\n",
    "                \"displayModeBar\": True,\n",
    "                \"scrollZoom\": False,\n",
    "                \"displaylogo\": False,\n",
    "                \"responsive\": True,\n",
    "                \"staticPlot\": False,\n",
    "            }\n",
    "        )\n",
    "    if lang == 'EL':\n",
    "        fig.write_json(outputName + \".json\")\n",
    "    fig.write_json(outputName + \"_\" + lang + \".json\")"
   ]
  },
  {
   "cell_type": "code",
   "execution_count": 48,
   "metadata": {},
   "outputs": [],
   "source": [
    "heatmap(\n",
    "        deaths_H_df,\n",
    "        countries_df,\n",
    "        population_df,\n",
    "        \"deaths\",\n",
    "        \"death_heat\",\n",
    "        \"<b>Θάνατοι</b> ανά 100 χιλ. πληθυσμού σε χώρες<br>με παρόμοιο πληθυσμό με την Ελλάδα\",\n",
    "        \"θάνατοι\",\n",
    "    )"
   ]
  },
  {
   "cell_type": "code",
   "execution_count": 49,
   "metadata": {},
   "outputs": [],
   "source": [
    "heatmap(\n",
    "    deaths_H_df,\n",
    "    countries_df,\n",
    "    population_df,\n",
    "    \"deaths\",\n",
    "    \"death_heat\",\n",
    "    \"<b>Θάνατοι</b> ανά 100 χιλ. πληθυσμού σε χώρες<br>με παρόμοιο πληθυσμό με την Ελλάδα\",\n",
    "    \"θάνατοι\",\n",
    ")\n",
    "heatmap(\n",
    "    deaths_H_df,\n",
    "    countries_df,\n",
    "    population_df,\n",
    "    \"deaths\",\n",
    "    \"death_heat\",\n",
    "    \"<b>Deaths</b> per 100k in countries<br>with similar population to Greece\",\n",
    "    \"deaths\",\n",
    "    lang=\"EN\"\n",
    ")\n",
    "\n",
    "\"\"\"\"\"\"\n",
    "heatmap(\n",
    "    confirmed_H_df,\n",
    "    countries_df,\n",
    "    population_df,\n",
    "    \"cases\",\n",
    "    \"cases_heat\",\n",
    "    \"<b>Κρούσματα</b> ανά 100 χιλ. πληθυσμού σε χώρες<br>με παρόμοιο πληθυσμό με την Ελλάδα\",\n",
    "    \"κρούσματα\",\n",
    ")\n",
    "heatmap(\n",
    "    confirmed_H_df,\n",
    "    countries_df,\n",
    "    population_df,\n",
    "    \"cases\",\n",
    "    \"cases_heat\",\n",
    "    \"<b>Cases</b> per 100k in countries<br>with similar population to Greece\",\n",
    "    \"cases\",\n",
    "    lang=\"EN\"\n",
    ")"
   ]
  },
  {
   "cell_type": "code",
   "execution_count": null,
   "metadata": {},
   "outputs": [],
   "source": []
  },
  {
   "cell_type": "code",
   "execution_count": 50,
   "metadata": {},
   "outputs": [],
   "source": [
    "\n",
    "baseHopkinsURL = \"https://raw.githubusercontent.com/CSSEGISandData/COVID-19/master/csse_covid_19_data/csse_covid_19_time_series/\"\n",
    "\n",
    "TICKFONT = dict(family=\"Roboto\", size=12, color=\"#114B5F\")\n",
    "\n",
    "TEXTFONT = dict(family=\"Roboto\", size=16, color=\"#114B5F\")\n",
    "\n",
    "XAXIS = dict(\n",
    "    showline=True,\n",
    "    zeroline=True,\n",
    "    showgrid=False,\n",
    "    showticklabels=True,\n",
    "    linecolor=\"#114B5F\",\n",
    "    linewidth=0.1,\n",
    "    ticks=\"outside\",\n",
    "    tickcolor=\"#BBBBBB\",\n",
    "    gridcolor=\"#F8FAFA\",\n",
    "    tickfont=TICKFONT,\n",
    ")\n",
    "\n",
    "YAXIS = dict(\n",
    "    showgrid=True,\n",
    "    gridcolor=\"#F8FAFA\",\n",
    "    zeroline=False,\n",
    "    showline=True,\n",
    "    showticklabels=True,\n",
    "    linecolor=\"#114B5F\",\n",
    "    linewidth=0.1,\n",
    "    ticks=\"outside\",\n",
    "    tickcolor=\"#BBBBBB\",\n",
    "    tickfont=TICKFONT,\n",
    ")\n",
    "\n",
    "TICKFONT_STYLE = dict(family=\"Roboto\", size=8, color=\"#114B5F\")\n",
    "\n",
    "TEXTFONT = dict(family=\"Roboto\", size=16, color=\"#114B5F\")\n",
    "\n",
    "XAXIS_STYLE = dict(\n",
    "    showline=True,\n",
    "    zeroline=False,\n",
    "    showgrid=True,\n",
    "    showticklabels=True,\n",
    "    linecolor=\"#114B5F\",\n",
    "    linewidth=0.1,\n",
    "    ticks=\"outside\",\n",
    "    tickcolor=\"#BBBBBB\",\n",
    "    gridcolor=\"#F8FAFA\",\n",
    "    tickfont=TICKFONT_STYLE,\n",
    ")\n",
    "\n",
    "YAXIS_STYLE = dict(\n",
    "    showgrid=True,\n",
    "    gridcolor=\"#F8FAFA\",\n",
    "    zeroline=False,\n",
    "    showline=True,\n",
    "    showticklabels=True,\n",
    "    linecolor=\"#114B5F\",\n",
    "    linewidth=0.1,\n",
    "    ticks=\"outside\",\n",
    "    tickcolor=\"#BBBBBB\",\n",
    "    tickfont=TICKFONT_STYLE,\n",
    ")\n",
    "\n",
    "YAXIS_STYLE2 = dict(\n",
    "    showgrid=True,\n",
    "    gridcolor=\"#F8FAFA\",\n",
    "    zeroline=False,\n",
    "    showline=False,\n",
    "    showticklabels=False,\n",
    "    linecolor=\"#114B5F\",\n",
    "    linewidth=0.1,\n",
    "    tickcolor=\"#BBBBBB\",\n",
    "    tickfont=TICKFONT_STYLE,\n",
    ")\n",
    "\n",
    "\n",
    "def parseFloat(x):\n",
    "    try:\n",
    "        x = x if isinstance(x, str) else x.to_string()\n",
    "        x = x.replace(\",\", \"\")\n",
    "        return float(x)\n",
    "    except ValueError:\n",
    "        return None\n"
   ]
  },
  {
   "cell_type": "code",
   "execution_count": 51,
   "metadata": {},
   "outputs": [],
   "source": [
    "import labels\n",
    "greeceTimeline_df = pd.read_csv(\"https://raw.githubusercontent.com/iMEdD-Lab/open-data/master/COVID-19/greeceTimeline.csv\")\n"
   ]
  },
  {
   "cell_type": "code",
   "execution_count": 52,
   "metadata": {},
   "outputs": [],
   "source": [
    "def create_linechart_deaths_intubated_gr(\n",
    "    name, greeceTimeline_data, show=False, lang=\"EL\"\n",
    "):\n",
    "    df = greeceTimeline_data\n",
    "    df = df.drop(\"Province/State\", axis=1)\n",
    "    df = df.drop(\"Country/Region\", axis=1)\n",
    "    df = df.set_index(\"Status\")\n",
    "    df = df.T\n",
    "    df = df.reset_index()\n",
    "    df = df.rename(columns={\"index\": \"date\"})\n",
    "    df = df[15:]\n",
    "    df[\"date\"] = pd.to_datetime(df[\"date\"])\n",
    "    df[\"date\"] = pd.to_datetime(df[\"date\"], format=\"%b-%d-%y\").dt.strftime(\"%d-%b\")\n",
    "    df[\"date_gr\"] = df[\"date\"]\n",
    "    df[\"date_gr\"] = df[\"date_gr\"].astype(str)\n",
    "    df[\"date_gr\"] = df[\"date_gr\"].str.replace(\"Feb\", \"Φεβ\")\n",
    "    df[\"date_gr\"] = df[\"date_gr\"].str.replace(\"Mar\", \"Μαρ\")\n",
    "    df[\"date_gr\"] = df[\"date_gr\"].str.replace(\"Apr\", \"Απρ\")\n",
    "    df[\"date_gr\"] = df[\"date_gr\"].str.replace(\"May\", \"Μάι\")\n",
    "    df[\"date_gr\"] = df[\"date_gr\"].str.replace(\"Jun\", \"Ιούν\")\n",
    "    df[\"date_gr\"] = df[\"date_gr\"].str.replace(\"Jul\", \"Ιούλ\")\n",
    "    df[\"date_gr\"] = df[\"date_gr\"].str.replace(\"Aug\", \"Αυγ\")\n",
    "\n",
    "    def line_x():\n",
    "        if lang == \"EL\":\n",
    "            return df.date_gr\n",
    "        else:\n",
    "            return df.date\n",
    "\n",
    "    # Initialize figure\n",
    "    fig = go.Figure()\n",
    "\n",
    "    # Add Traces\n",
    "    fig.add_trace(\n",
    "        go.Scatter(\n",
    "            x=line_x(),\n",
    "            y=df.deaths,\n",
    "            mode=\"lines+markers\",\n",
    "            connectgaps=True,\n",
    "            marker_color=\"#BA3A0A\",\n",
    "            name=labels.line_trace_deaths(lang),\n",
    "            line_shape=\"spline\",\n",
    "        )\n",
    "    )\n",
    "\n",
    "    fig.add_trace(\n",
    "        go.Scatter(\n",
    "            x=line_x(),\n",
    "            y=df.intubated,\n",
    "            mode=\"lines+markers\",\n",
    "            connectgaps=True,\n",
    "            marker_color=\"#3f6678\",\n",
    "            name=labels.line_trace_intub(lang),\n",
    "            line_shape=\"spline\",\n",
    "        )\n",
    "    )\n",
    "\n",
    "    # Add buttons\n",
    "    fig.update_layout(\n",
    "        updatemenus=[\n",
    "            dict(\n",
    "                type=\"buttons\",\n",
    "                direction=\"left\",\n",
    "                active=0,\n",
    "                buttons=list(\n",
    "                    [\n",
    "                        dict(\n",
    "                            label=labels.line_button_all(lang),\n",
    "                            method=\"update\",\n",
    "                            args=[\n",
    "                                {\"visible\": [True, True]},\n",
    "                                {\"title\": labels.line_button_all_title(lang)},\n",
    "                            ],\n",
    "                        ),\n",
    "                        dict(\n",
    "                            label=labels.line_button_deaths(lang),\n",
    "                            method=\"update\",\n",
    "                            args=[\n",
    "                                {\"visible\": [True, False]},\n",
    "                                {\"title\": labels.line_button_deaths_title(lang)},\n",
    "                            ],\n",
    "                        ),\n",
    "                        dict(\n",
    "                            label=labels.line_button_intub(lang),\n",
    "                            method=\"update\",\n",
    "                            args=[\n",
    "                                {\"visible\": [False, True]},\n",
    "                                {\"title\": labels.line_button_intub_title(lang)},\n",
    "                            ],\n",
    "                        ),\n",
    "                    ]\n",
    "                ),\n",
    "                pad={\"t\": 0, \"l\": 0, \"b\": 0, \"r\": 0},\n",
    "                showactive=True,\n",
    "                x=0.05,\n",
    "                xanchor=\"left\",\n",
    "                y=1.05,\n",
    "                yanchor=\"top\",\n",
    "            )\n",
    "        ]\n",
    "    )\n",
    "\n",
    "    fig.update_layout(\n",
    "        xaxis=dict(\n",
    "            showline=True,\n",
    "            zeroline=True,\n",
    "            showgrid=False,\n",
    "            showticklabels=True,\n",
    "            linecolor=\"#114B5F\",\n",
    "            linewidth=0.1,\n",
    "            ticks=\"outside\",\n",
    "            tickcolor=\"#BBBBBB\",\n",
    "            gridcolor=\"#F8FAFA\",\n",
    "            tickfont=dict(family=\"Roboto\", size=12, color=\"#114B5F\",),\n",
    "            dtick=10,\n",
    "        ),\n",
    "        yaxis=dict(\n",
    "            showgrid=True,\n",
    "            gridcolor=\"#F8FAFA\",\n",
    "            zeroline=False,\n",
    "            showline=True,\n",
    "            showticklabels=True,\n",
    "            linecolor=\"#114B5F\",\n",
    "            linewidth=0.1,\n",
    "            ticks=\"outside\",\n",
    "            tickcolor=\"#BBBBBB\",\n",
    "            tickfont=dict(family=\"Roboto\", size=12, color=\"#114B5F\"),\n",
    "        ),\n",
    "        showlegend=False,\n",
    "        legend=dict(font=dict(family=\"Roboto\", size=12, color=\"#114B5F\")),\n",
    "        paper_bgcolor=\"#E6ECEC\",\n",
    "        plot_bgcolor=\"#E6ECEC\",\n",
    "        title=dict(\n",
    "            text=labels.line_button_all_title(lang),\n",
    "            font=dict(family=\"Roboto\", size=16, color=\"#114B5F\"),\n",
    "        ),\n",
    "        hoverlabel=dict(font_size=10, font_family=\"Roboto\"),\n",
    "        hovermode=\"closest\",\n",
    "    )\n",
    "\n",
    "    fig.update_layout(height=450, margin=dict(l=10, r=10, b=10, t=90, pad=0))\n",
    "\n",
    "    config = dict(\n",
    "            {\n",
    "                \"displayModeBar\": True,\n",
    "                \"scrollZoom\": False,\n",
    "                \"displaylogo\": False,\n",
    "                \"responsive\": True,\n",
    "                \"staticPlot\": False,\n",
    "            }\n",
    "        )\n",
    "    if show:\n",
    "        config = dict(\n",
    "            {\n",
    "                \"displayModeBar\": True,\n",
    "                \"scrollZoom\": False,\n",
    "                \"displaylogo\": False,\n",
    "                \"responsive\": True,\n",
    "                \"staticPlot\": False,\n",
    "            }\n",
    "        )\n",
    "        fig.show(config=config)\n",
    "    if lang == 'EL':\n",
    "        fig.write_json(name + \".json\")\n",
    "    fig.write_json(name + \"_\" + lang + \".json\")"
   ]
  },
  {
   "cell_type": "code",
   "execution_count": 53,
   "metadata": {},
   "outputs": [],
   "source": [
    "create_linechart_deaths_intubated_gr(\n",
    "        \"linechart_deaths_intubated_gr\", greeceTimeline_df, \n",
    "    )"
   ]
  },
  {
   "cell_type": "code",
   "execution_count": 54,
   "metadata": {},
   "outputs": [],
   "source": [
    "create_linechart_deaths_intubated_gr(\n",
    "        \"linechart_deaths_intubated_gr\", greeceTimeline_df\n",
    "    )\n",
    "create_linechart_deaths_intubated_gr(\n",
    "        \"linechart_deaths_intubated_gr\",\n",
    "        greeceTimeline_df,\n",
    "        lang=\"EN\",\n",
    "    )"
   ]
  },
  {
   "cell_type": "code",
   "execution_count": null,
   "metadata": {},
   "outputs": [],
   "source": []
  },
  {
   "cell_type": "code",
   "execution_count": null,
   "metadata": {},
   "outputs": [],
   "source": []
  },
  {
   "cell_type": "code",
   "execution_count": null,
   "metadata": {},
   "outputs": [],
   "source": []
  },
  {
   "cell_type": "code",
   "execution_count": 55,
   "metadata": {},
   "outputs": [],
   "source": [
    "def create_regions_facets(name, regions_greece_deaths_data, show=False, lang=\"EL\"):\n",
    "    deaths = regions_greece_deaths_data\n",
    "    deaths = deaths.drop([\"pop_11\", \"district_EN\"], axis=1)\n",
    "    deaths[\"district\"] = deaths.district.str.replace(\"Περιφέρεια\", \"\")\n",
    "    deaths[\"district\"] = deaths.district.str.replace(\n",
    "        \"Μακεδονίας Θράκης\", \"Μακεδονίας & Θράκης\"\n",
    "    )\n",
    "    deaths = deaths[\n",
    "        (deaths.district != \"Χωρίς Μόνιμη Κατοικία στην Ελλάδα\")\n",
    "        & (deaths.district != \"Χωρίς Γεωγραφικό Προσδιορισμό\")\n",
    "    ]\n",
    "    deaths = deaths.melt(\n",
    "        id_vars=[\"district\"], var_name=\"Date\", value_name=\"deaths\"\n",
    "    ).astype({\"Date\": \"datetime64[ns]\", \"deaths\": \"Int64\"})\n",
    "    deaths = pd.DataFrame(\n",
    "        deaths.groupby([\"district\", \"Date\"]).deaths.sum().reset_index()\n",
    "    )\n",
    "    deaths = deaths[deaths.deaths > 0]\n",
    "\n",
    "    if lang == \"EL\":\n",
    "        deaths[\"district\"] = deaths.district\n",
    "    else:\n",
    "        deaths[\"district\"] = deaths.district.str.replace(\"Αττικής\", \"Attica\")\n",
    "        deaths[\"district\"] = deaths.district.str.replace(\"Άγιον Όρος\", \"Mount Athos\")\n",
    "        deaths[\"district\"] = deaths.district.str.replace(\n",
    "            \"Ανατολικής Μακεδονίας & Θράκης\", \"East Macedonia-Thrace\"\n",
    "        )\n",
    "        deaths[\"district\"] = deaths.district.str.replace(\n",
    "            \"Βορείου Αιγαίου\", \"North Aegean\"\n",
    "        )\n",
    "        deaths[\"district\"] = deaths.district.str.replace(\n",
    "            \"Δυτικής Ελλάδας\", \"Western Greece\"\n",
    "        )\n",
    "        deaths[\"district\"] = deaths.district.str.replace(\n",
    "            \"Δυτικής Μακεδονίας\", \"Western Macedonia\"\n",
    "        )\n",
    "        deaths[\"district\"] = deaths.district.str.replace(\"Ηπείρου\", \"Epirus\")\n",
    "        deaths[\"district\"] = deaths.district.str.replace(\"Θεσσαλίας\", \"Thessaly\")\n",
    "        deaths[\"district\"] = deaths.district.str.replace(\n",
    "            \"Ιονίων Νήσων\", \"Ionian Islands\"\n",
    "        )\n",
    "        deaths[\"district\"] = deaths.district.str.replace(\n",
    "            \"Κεντρικής Μακεδονίας\", \"Central Macedonia\"\n",
    "        )\n",
    "        deaths[\"district\"] = deaths.district.str.replace(\"Κρήτης\", \"Crete\")\n",
    "        deaths[\"district\"] = deaths.district.str.replace(\n",
    "            \"Νοτίου Αιγαίου\", \"South Aegean\"\n",
    "        )\n",
    "        deaths[\"district\"] = deaths.district.str.replace(\"Πελοποννήσου\", \"Peloponnese\")\n",
    "        deaths[\"district\"] = deaths.district.str.replace(\n",
    "            \"Στερεάς Ελλάδας και Εύβοιας\", \"Cenral Greece\"\n",
    "        )\n",
    "\n",
    "    fig = px.area(\n",
    "        deaths,\n",
    "        y=\"deaths\",\n",
    "        x=\"Date\",\n",
    "        facet_col=\"district\",\n",
    "        facet_col_wrap=3,\n",
    "        labels=labels.regions_facets_labels(lang),\n",
    "    )\n",
    "\n",
    "    fig.for_each_annotation(lambda a: a.update(text=a.text.split(\"=\")[-1]))\n",
    "    fig.for_each_annotation(lambda a: a.update(text=a.text.replace(\"Περιφέρεια\", \"\")))\n",
    "\n",
    "    fig[\"layout\"][\"yaxis\"][\"title\"][\"text\"] = \"\"\n",
    "    fig[\"layout\"][\"yaxis3\"][\"title\"][\"text\"] = \"\"\n",
    "    fig[\"layout\"][\"yaxis5\"][\"title\"][\"text\"] = \"\"\n",
    "    fig[\"layout\"][\"yaxis7\"][\"title\"][\"text\"] = \"\"\n",
    "    fig[\"layout\"][\"xaxis2\"][\"title\"][\"text\"] = \"\"\n",
    "    fig[\"layout\"][\"xaxis1\"][\"title\"][\"text\"] = \"\"\n",
    "    fig[\"layout\"][\"xaxis3\"][\"title\"][\"text\"] = \"\"\n",
    "\n",
    "    fig.update_layout(\n",
    "        height=450,\n",
    "        xaxis=XAXIS_STYLE,\n",
    "        xaxis2=XAXIS_STYLE,\n",
    "        xaxis3=XAXIS_STYLE,\n",
    "        yaxis=YAXIS_STYLE,\n",
    "#         yaxis3=YAXIS_STYLE2,\n",
    "#         yaxis5=YAXIS_STYLE2,\n",
    "        yaxis7=YAXIS_STYLE,\n",
    "#         yaxis9=YAXIS_STYLE2,\n",
    "#         yaxis2=YAXIS_STYLE,\n",
    "        yaxis4=YAXIS_STYLE,\n",
    "#         yaxis6=YAXIS_STYLE2,\n",
    "#         yaxis8=YAXIS_STYLE2,\n",
    "        yaxis10=YAXIS_STYLE,\n",
    "        showlegend=False,\n",
    "        paper_bgcolor=\"#E6ECEC\",\n",
    "        plot_bgcolor=\"#E6ECEC\",\n",
    "        title=dict(text=labels.regions_facets_title(lang), font=TEXTFONT),\n",
    "        # margin=dict(l=10, r=10, b=10, t=90, pad=0),\n",
    "        hoverlabel=dict(font_size=8, font_family=\"Roboto\"),\n",
    "        yaxis4_title=dict(\n",
    "            text=\"\", font=dict(family=\"Roboto\", size=8, color=\"#114B5F\"),\n",
    "        ),\n",
    "        yaxis10_title=dict(\n",
    "            text=\"\", font=dict(family=\"Roboto\", size=8, color=\"#114B5F\"),\n",
    "        ),\n",
    "        xaxis_title=dict(\n",
    "            text=labels.regions_facets_xaxis_note(lang),\n",
    "            font=dict(family=\"Roboto\", size=8, color=\"#114B5F\"),\n",
    "        ),\n",
    "        hovermode=\"closest\",\n",
    "    )\n",
    "\n",
    "    for annot in fig.layout.annotations:\n",
    "        annot.update(font=dict(family=\"Roboto\", size=8, color=\"#114B5F\"))\n",
    "\n",
    "    fig.update_traces(line=dict(color=\"#BA3A0A\"))\n",
    "\n",
    "    fig.update_layout(height=450, margin=dict(l=10, r=10, b=10, t=90, pad=0))\n",
    "\n",
    "    if show:\n",
    "        config = dict(\n",
    "            {\n",
    "                \"displayModeBar\": True,\n",
    "                \"scrollZoom\": False,\n",
    "                \"displaylogo\": False,\n",
    "                \"responsive\": True,\n",
    "                \"staticPlot\": False,\n",
    "            }\n",
    "        )\n",
    "\n",
    "        fig.show(config=config)\n",
    "    if lang == 'EL':\n",
    "        fig.write_json(name + \".json\")\n",
    "    fig.write_json(name + \"_\" + lang + \".json\")"
   ]
  },
  {
   "cell_type": "code",
   "execution_count": 56,
   "metadata": {},
   "outputs": [],
   "source": [
    "regions_facets_data = pd.read_csv(\n",
    "        \"https://docs.google.com/spreadsheets/d/e/2PACX-1vRpR8AOJaRsB5by7H3R_GijtaY06J8srELipebO5B0jYEg9pKugT3C6Rk2RSQ5eyerQl7LolshamK27/pub?gid=895893639&single=true&output=csv\"\n",
    "    )\n",
    "\n",
    "create_regions_facets(\n",
    "        \"create_regions_facets\", regions_facets_data\n",
    "    )\n",
    "create_regions_facets(\n",
    "        \"create_regions_facets\",\n",
    "        regions_facets_data,\n",
    "        lang=\"EN\",\n",
    "    )"
   ]
  },
  {
   "cell_type": "code",
   "execution_count": null,
   "metadata": {},
   "outputs": [],
   "source": []
  },
  {
   "cell_type": "code",
   "execution_count": null,
   "metadata": {},
   "outputs": [],
   "source": []
  },
  {
   "cell_type": "code",
   "execution_count": null,
   "metadata": {},
   "outputs": [],
   "source": []
  },
  {
   "cell_type": "code",
   "execution_count": null,
   "metadata": {},
   "outputs": [],
   "source": []
  },
  {
   "cell_type": "code",
   "execution_count": 57,
   "metadata": {},
   "outputs": [],
   "source": [
    "def growth_rate(\n",
    "    data,\n",
    "    countries_data,\n",
    "    population,\n",
    "    numberCompare,\n",
    "    columnName,\n",
    "    outputName,\n",
    "    titleGraphic,\n",
    "    keyWordHover,\n",
    "    xAxis,\n",
    "    yAxis,\n",
    "    show=False,\n",
    "    lang=\"EL\",\n",
    "):\n",
    "    \"\"\" φορτώνουμε το πρώτο αρχείο από το Hopkins\"\"\"\n",
    "    df = (\n",
    "        data.drop([\"Lat\", \"Long\"], axis=1)\n",
    "        .melt(\n",
    "            id_vars=[\"Province/State\", \"Country/Region\"],\n",
    "            var_name=\"Date\",\n",
    "            value_name=columnName,\n",
    "        )\n",
    "        .astype({\"Date\": \"datetime64[ns]\", columnName: \"Int64\"}, errors=\"ignore\")\n",
    "    )\n",
    "\n",
    "    \"\"\" φορτώνουμε το αρχείο με την αντιστοίχιση ελληνικών - αγγλικών ονομάτων χωρών\"\"\"\n",
    "    gr = countries_data\n",
    "    \"\"\" το συνδέουμε με το dataframe από το Hopkins ώστε να προστεθεί το ADMIN_GR\"\"\"\n",
    "    df = pd.merge(df, gr, how=\"left\", left_on=\"Country/Region\", right_on=\"ADMIN\")\n",
    "\n",
    "    \"\"\" φορτώνουμε το αρχείο με τους πληθυσμούς\"\"\"\n",
    "    pop = population\n",
    "    \"\"\"συνδέουμε το dataframe με τα ελληνικά ονόματα \"\"\"\n",
    "    gr = pd.merge(gr, pop, how=\"right\", left_on=\"ADMIN\", right_on=\"Country,Other\")\n",
    "\n",
    "    \"\"\"Ενώνουμε το dataframe του Hopkins και εκείνο του population με βάση την στήλη με τα ελληνικά ονόματα\"\"\"\n",
    "    df = pd.merge(df, gr, how=\"left\", on=\"ADMIN_GR\")\n",
    "\n",
    "    \"\"\" υπολογίζουμε συγκεντρωτικά για κάθε χώρα τα κρούσματα και τους θανάτους ανά ημέρα\"\"\"\n",
    "    df = (\n",
    "        df.groupby([\"Country/Region\", \"Date\", \"ADMIN_GR\", \"Population (2020)\"])[\n",
    "            columnName\n",
    "        ]\n",
    "        .sum()\n",
    "        .reset_index()\n",
    "    )\n",
    "\n",
    "    df[\"7_day_avg_growth\"] = (\n",
    "        df.groupby([\"Country/Region\"])[columnName].pct_change().rolling(window=7).mean()\n",
    "        * 100\n",
    "    ).round(1)\n",
    "\n",
    "    \"\"\" ------------------- ΞΕΚΙΝΑ Η ΟΠΤΙΚΟΠΟΙΗΣΗ ------------------\"\"\"\n",
    "\n",
    "    \"\"\" Φτιάχνουμε ένα variable που ΔΕΝ ΘΑ ΠΕΡΙΕΧΕΙ τις χώρες αναφοράς - που θα χρωματίσουμε με άλλο χρώμα\"\"\"\n",
    "    cnt = df[\n",
    "        (df[\"Country/Region\"] != \"Greece\")\n",
    "        & (df[\"Country/Region\"] != \"Germany\")\n",
    "        & (df[\"Country/Region\"] != \"Italy\")\n",
    "        & (df[\"Country/Region\"] != \"United Kingdom\")\n",
    "        & (df[\"Country/Region\"] != \"US\")\n",
    "        & (df[\"Country/Region\"] != \"Spain\")\n",
    "        & (df[\"Country/Region\"] != \"China\")\n",
    "    ]\n",
    "\n",
    "    fig = go.Figure()\n",
    "    fig.update_layout(\n",
    "        paper_bgcolor=\"#E6ECEC\",\n",
    "        title=titleGraphic,\n",
    "        plot_bgcolor=\"#E6ECEC\",\n",
    "        font=dict(family=\"Roboto\", size=11, color=\"#114B5F\"),\n",
    "    )\n",
    "\n",
    "    fig.update_layout(\n",
    "        hovermode=\"closest\",\n",
    "        hoverlabel=dict(bgcolor=\"white\", font_size=12, font_family=\"Roboto\"),\n",
    "        hoverlabel_align=\"left\",\n",
    "    )\n",
    "\n",
    "    fig.update_layout(showlegend=True)\n",
    "    fig.update_layout(\n",
    "        legend_title=\"Διπλό κλικ σε κάθε<br>χώρα για να την <br>απομονώσετε<br>\"\n",
    "        if lang == \"EL\"\n",
    "        else \"Double click<br>to select each<br>country\",\n",
    "        legend=dict(\n",
    "            traceorder=\"reversed\",\n",
    "            font=dict(family=\"roboto\", size=10, color=\"black\"),\n",
    "            bgcolor=\"#E6ECEC\",\n",
    "            bordercolor=\"#dadada\",\n",
    "            borderwidth=0.3,\n",
    "        ),\n",
    "    )\n",
    "\n",
    "    fig.update_yaxes(\n",
    "        nticks=8,\n",
    "        rangemode=\"tozero\",\n",
    "        showticklabels=True,\n",
    "        showline=True,\n",
    "        linewidth=2,\n",
    "        linecolor=\"#114B5F\",\n",
    "        showgrid=True,\n",
    "        gridwidth=0.1,\n",
    "        gridcolor=\"#F8FAFA\",\n",
    "        title_text=yAxis,\n",
    "        title_font={\"size\": 11, \"color\": \"#114B5F\"},\n",
    "    )\n",
    "\n",
    "    fig.update_xaxes(\n",
    "        ticks=None,\n",
    "        rangemode=\"tozero\",\n",
    "        showticklabels=True,\n",
    "        showline=False,\n",
    "        linewidth=0.1,\n",
    "        linecolor=\"#F8FAFA\",\n",
    "        showgrid=True,\n",
    "        gridwidth=0.1,\n",
    "        gridcolor=\"#F8FAFA\",\n",
    "        title_text=xAxis,\n",
    "        title_font={\"size\": 11, \"color\": \"#114B5F\"},\n",
    "    )\n",
    "\n",
    "    fig.update_layout(yaxis_type=\"log\")\n",
    "\n",
    "    fig.update_layout(height=380)\n",
    "\n",
    "    # world - Dataframe για μετά την 1η Μαρτίου\n",
    "    world = df[(df[\"Date\"] > \"2020-03-01\")]\n",
    "    last_day = world[\"Date\"].max()\n",
    "    countries_with_increased = world[\n",
    "        (world.Date == last_day) & (world[\"7_day_avg_growth\"] > numberCompare)\n",
    "    ][\"Country/Region\"].tolist()\n",
    "\n",
    "    # DataFrame με τις χώρες που έχουν ρυθμό αύξησης άνω του numberCompare\n",
    "    world_df = world[world[\"Country/Region\"].isin(countries_with_increased)]\n",
    "\n",
    "    if lang == \"EL\":\n",
    "        fig.add_trace(\n",
    "            go.Scatter(\n",
    "                y=world_df[\"7_day_avg_growth\"],\n",
    "                x=world_df[\"Date\"],\n",
    "                name=\"<i>Χώρες με<br>>{}% αύξηση<br> {}<br>τις τελευταίες<br>7 ημέρες</i>\".format(\n",
    "                    numberCompare, keyWordHover\n",
    "                ),\n",
    "                text=[i for i in world_df[\"ADMIN_GR\"]],\n",
    "                hovertemplate=\"<b>{}</b><br><i>{}</i><br>{} αύξηση {} <extra></extra>\".format(\n",
    "                    \"%{text}\", \"%{x}\", \"%{y:.f}% \", keyWordHover\n",
    "                ),\n",
    "                line=dict(color=\"gray\", width=0.2),\n",
    "                showlegend=True,\n",
    "            )\n",
    "        )\n",
    "    else:\n",
    "        fig.add_trace(\n",
    "            go.Scatter(\n",
    "                y=world_df[\"7_day_avg_growth\"],\n",
    "                x=world_df[\"Date\"],\n",
    "                name=\"<i>Countries with<br>>{}% increase<br> {}<br>in the last<br>7 days</i>\".format(\n",
    "                    numberCompare, keyWordHover\n",
    "                ),\n",
    "                text=[i for i in world_df[\"Country/Region\"]],\n",
    "                hovertemplate=\"<b>{}</b><br><i>{}</i><br>{} increase {} <extra></extra>\".format(\n",
    "                    \"%{text}\", \"%{x}\", \"%{y:.f}% \", keyWordHover\n",
    "                ),\n",
    "                line=dict(color=\"gray\", width=0.2),\n",
    "                showlegend=True,\n",
    "            )\n",
    "        )\n",
    "\n",
    "    # Γερμανία\n",
    "    if lang == \"EL\":\n",
    "        fig.add_trace(\n",
    "            go.Scatter(\n",
    "                y=world[(world[\"Country/Region\"] == \"Germany\")][\"7_day_avg_growth\"],\n",
    "                x=world[\"Date\"],\n",
    "                name=\"Γερμανία\",\n",
    "                line=dict(color=\"black\", width=2),\n",
    "                hovertemplate=\"<b>{}</b><br>{}αύξηση {} στην Γερμανία <extra></extra>\".format(\n",
    "                    \"%{x}\", \"%{y:.f}% \", keyWordHover\n",
    "                ),\n",
    "            )\n",
    "        )\n",
    "    else:\n",
    "        fig.add_trace(\n",
    "            go.Scatter(\n",
    "                y=world[(world[\"Country/Region\"] == \"Germany\")][\"7_day_avg_growth\"],\n",
    "                x=world[\"Date\"],\n",
    "                name=\"Germany\",\n",
    "                line=dict(color=\"black\", width=2),\n",
    "                hovertemplate=\"<b>{}</b><br>{}increase {} in Germany<extra></extra>\".format(\n",
    "                    \"%{x}\", \"%{y:.f}% \", keyWordHover\n",
    "                ),\n",
    "            )\n",
    "        )\n",
    "\n",
    "    # Ιταλία\n",
    "    if lang == \"EL\":\n",
    "        fig.add_trace(\n",
    "            go.Scatter(\n",
    "                y=world[(world[\"Country/Region\"] == \"Italy\")][\"7_day_avg_growth\"],\n",
    "                x=world[\"Date\"],\n",
    "                name=\"Ιταλία\" if lang == \"el\" else \"Italy\",\n",
    "                line=dict(color=\"#3E82B3\", width=2),\n",
    "                hovertemplate=\"<b>{}</b><br>{}αύξηση {} στην Ιταλία<extra></extra>\".format(\n",
    "                    \"%{x}\", \"%{y:.f}% \", keyWordHover\n",
    "                ),\n",
    "            )\n",
    "        )\n",
    "    else:\n",
    "        # UK\n",
    "        fig.add_trace(\n",
    "            go.Scatter(\n",
    "                y=world[(world[\"Country/Region\"] == \"United Kingdom\")][\n",
    "                    \"7_day_avg_growth\"\n",
    "                ],\n",
    "                x=world[\"Date\"],\n",
    "                name=\"United Kingdom\",\n",
    "                line=dict(color=\"#FFD400\", width=2),\n",
    "                hovertemplate=\"<b>{}</b><br>{}increase {} in UK <extra></extra>\".format(\n",
    "                    \"%{x}\", \"%{y:.f}% \", keyWordHover\n",
    "                ),\n",
    "            )\n",
    "        )\n",
    "\n",
    "    # USA\n",
    "    if lang == \"EL\":\n",
    "        fig.add_trace(\n",
    "            go.Scatter(\n",
    "                y=world[(world[\"Country/Region\"] == \"US\")][\"7_day_avg_growth\"],\n",
    "                x=world[\"Date\"],\n",
    "                name=\"ΗΠΑ\",\n",
    "                line=dict(color=\"lightgreen\", width=2),\n",
    "                hovertemplate=\"<b>{}</b><br>{}αύξηση {} στις ΗΠΑ<extra></extra>\".format(\n",
    "                    \"%{x}\", \"%{y:.f}% \", keyWordHover\n",
    "                ),\n",
    "            )\n",
    "        )\n",
    "    else:\n",
    "        fig.add_trace(\n",
    "            go.Scatter(\n",
    "                y=world[(world[\"Country/Region\"] == \"US\")][\"7_day_avg_growth\"],\n",
    "                x=world[\"Date\"],\n",
    "                name=\"USA\",\n",
    "                line=dict(color=\"lightgreen\", width=2),\n",
    "                hovertemplate=\"<b>{}</b><br>{}increase {} in USA <extra></extra>\".format(\n",
    "                    \"%{x}\", \"%{y:.f}% \", keyWordHover\n",
    "                ),\n",
    "            )\n",
    "        )\n",
    "\n",
    "    # Spain\n",
    "    if lang == \"EL\":\n",
    "        fig.add_trace(\n",
    "            go.Scatter(\n",
    "                y=world[(world[\"Country/Region\"] == \"Spain\")][\"7_day_avg_growth\"],\n",
    "                x=world[\"Date\"],\n",
    "                name=\"Ισπανία\",\n",
    "                line=dict(color=\"purple\", width=2),\n",
    "                hovertemplate=\"<b>{}</b><br>{} αύξηση {} στην Ισπανία<extra></extra>\".format(\n",
    "                    \"%{x}\", \"%{y:.f}% \", keyWordHover\n",
    "                ),\n",
    "            )\n",
    "        )\n",
    "    else:\n",
    "        fig.add_trace(\n",
    "            go.Scatter(\n",
    "                y=world[(world[\"Country/Region\"] == \"Spain\")][\"7_day_avg_growth\"],\n",
    "                x=world[\"Date\"],\n",
    "                name=\"Spain\",\n",
    "                line=dict(color=\"purple\", width=2),\n",
    "                hovertemplate=\"<b>{}</b><br>{} increase {} in Spain<extra></extra>\".format(\n",
    "                    \"%{x}\", \"%{y:.f}% \", keyWordHover\n",
    "                ),\n",
    "            )\n",
    "        )\n",
    "\n",
    "    # Greece\n",
    "    if lang == \"EL\":\n",
    "        fig.add_trace(\n",
    "            go.Scatter(\n",
    "                y=world[(world[\"Country/Region\"] == \"Greece\")][\"7_day_avg_growth\"],\n",
    "                x=world[\"Date\"],\n",
    "                name=\"Ελλάδα\",\n",
    "                line=dict(color=\"#BA3A0A\", width=3),\n",
    "                hovertemplate=\"<b>{}</b><br>{} αύξηση {} στην Ελλάδα<extra></extra>\".format(\n",
    "                    \"%{x}\", \"%{y:.f}% \", keyWordHover\n",
    "                ),\n",
    "                line_shape=\"spline\",\n",
    "            )\n",
    "        )\n",
    "    else:\n",
    "        fig.add_trace(\n",
    "            go.Scatter(\n",
    "                y=world[(world[\"Country/Region\"] == \"Greece\")][\"7_day_avg_growth\"],\n",
    "                x=world[\"Date\"],\n",
    "                name=\"Greece\",\n",
    "                line=dict(color=\"#BA3A0A\", width=3),\n",
    "                hovertemplate=\"<b>{}</b><br>{} increase {} in Greece<extra></extra>\".format(\n",
    "                    \"%{x}\", \"%{y:.f}% \", keyWordHover\n",
    "                ),\n",
    "                line_shape=\"spline\",\n",
    "            )\n",
    "        )\n",
    "\n",
    "    # μέγεθος γραμμής σε κάθε χώρα στο legend, trace/constant\n",
    "    fig.update_layout(\n",
    "        legend={\"itemsizing\": \"constant\"},\n",
    "        annotations=[\n",
    "            dict(\n",
    "                x=0,\n",
    "                y=1.1,\n",
    "                xref=\"paper\",\n",
    "                yref=\"paper\",\n",
    "                text='<i>Η τιμή κάθε ημέρας είναι ο μέσος όρος <br>των ρυθμών μεταβολής των τελευταίων επτά ημερών</i>' if lang == 'EL'\n",
    "                          else 'Average daily change in deaths,<br>over the previous 7 days',\n",
    "                showarrow=False,\n",
    "                align=\"left\",\n",
    "            )\n",
    "        ],\n",
    "    )\n",
    "    fig.update_layout(height=450, margin=dict(l=10, r=10, b=10, t=80, pad=0))\n",
    "\n",
    "    if show:\n",
    "        config = dict(\n",
    "            {\n",
    "                \"displayModeBar\": True,\n",
    "                \"scrollZoom\": False,\n",
    "                \"displaylogo\": False,\n",
    "                \"responsive\": True,\n",
    "                \"staticPlot\": False,\n",
    "            }\n",
    "        )\n",
    "    if lang == 'EL':\n",
    "        fig.write_json(outputName + \".json\")\n",
    "    fig.write_json(outputName + \"_\" + lang + \".json\")"
   ]
  },
  {
   "cell_type": "code",
   "execution_count": 58,
   "metadata": {},
   "outputs": [],
   "source": [
    "growth_rate(\n",
    "        deaths_H_df,\n",
    "        countries_df,\n",
    "        population_df,\n",
    "        10,\n",
    "        \"deaths\",\n",
    "        \"deaths_growth\",\n",
    "        \"Μέσος ρυθμός μεταβολής <b>θανάτων</b>\",\n",
    "        \"θανάτων\",\n",
    "        \"\",\n",
    "        \"Ποσοστιαία διαφορά από μέρα σε μέρα<br>Λογαριθμική κλίμακα\",\n",
    "    ),\n",
    "growth_rate(\n",
    "        deaths_H_df,\n",
    "        countries_df,\n",
    "        population_df,\n",
    "        10,\n",
    "        \"deaths\",\n",
    "        \"deaths_growth\",\n",
    "        \"Growth Rate of <b>deaths</b> over Time\",\n",
    "        \"of deaths\",\n",
    "        \"\",\n",
    "        \"Percentage change <br>Logarithmic scale \",\n",
    "        lang=\"EN\",\n",
    "    )"
   ]
  },
  {
   "cell_type": "code",
   "execution_count": 59,
   "metadata": {},
   "outputs": [],
   "source": [
    "growth_rate(\n",
    "        confirmed_H_df,\n",
    "        countries_df,\n",
    "        population_df,\n",
    "        10,\n",
    "        \"cases\",\n",
    "        \"cases_growth\",\n",
    "        \"Μέσος ρυθμός μεταβολής <b>κρουσμάτων</b>\",\n",
    "        \"κρουσμάτων\",\n",
    "        \"\",\n",
    "        \"Ποσοστιαία διαφορά από μέρα σε μέρα<br>Λογαριθμική κλίμακα\",\n",
    "    )\n",
    "\n",
    "growth_rate(\n",
    "        confirmed_H_df,\n",
    "        countries_df,\n",
    "        population_df,\n",
    "        10,\n",
    "        \"cases\",\n",
    "        \"cases_growth\",\n",
    "        \"Growth Rate of <b>cases</b> over Time\",\n",
    "        \"of cases\",\n",
    "        \"\",\n",
    "        \"Percentage change <br>Logarithmic scale \",\n",
    "        lang=\"EN\",\n",
    "    )"
   ]
  },
  {
   "cell_type": "code",
   "execution_count": null,
   "metadata": {},
   "outputs": [],
   "source": []
  },
  {
   "cell_type": "code",
   "execution_count": null,
   "metadata": {},
   "outputs": [],
   "source": []
  },
  {
   "cell_type": "code",
   "execution_count": null,
   "metadata": {},
   "outputs": [],
   "source": []
  },
  {
   "cell_type": "code",
   "execution_count": null,
   "metadata": {},
   "outputs": [],
   "source": []
  },
  {
   "cell_type": "code",
   "execution_count": null,
   "metadata": {},
   "outputs": [],
   "source": []
  },
  {
   "cell_type": "code",
   "execution_count": 60,
   "metadata": {},
   "outputs": [],
   "source": [
    "def create_non_residents_line(\n",
    "name, regions_greece_cases, show=False, lang=\"EL\"\n",
    "):\n",
    "\n",
    "    rgc = regions_greece_cases\n",
    "    rgc = rgc[rgc.district=='Χωρίς Μόνιμη Κατοικία στην Ελλάδα']\n",
    "    rgc = rgc.drop(['district','district_EN','pop_11'],axis=1)\n",
    "    rgc = rgc.T\n",
    "    rgc = rgc.rename(columns={rgc.columns[0]:'cases'})\n",
    "    rgc = rgc.reset_index()[57:]\n",
    "    rgc1 = rgc.reset_index()\n",
    "    rgc1 = rgc1.rename(columns={'level_0':'index_previous','index':'date'})\n",
    "    rgc1[\"date\"] = pd.to_datetime(rgc1[\"date\"])\n",
    "    rgc1[\"date\"] = pd.to_datetime(rgc1[\"date\"], format=\"%b-%d-%y\").dt.strftime(\"%d-%b\")\n",
    "    rgc1[\"date_gr\"] = rgc1[\"date\"]\n",
    "    rgc1[\"date_gr\"] = rgc1[\"date_gr\"].astype(str)\n",
    "    rgc1[\"date_gr\"] = rgc1[\"date_gr\"].str.replace(\"Feb\", \"Φεβ\")\n",
    "    rgc1[\"date_gr\"] = rgc1[\"date_gr\"].str.replace(\"Mar\", \"Μαρ\")\n",
    "    rgc1[\"date_gr\"] = rgc1[\"date_gr\"].str.replace(\"Apr\", \"Απρ\")\n",
    "    rgc1[\"date_gr\"] = rgc1[\"date_gr\"].str.replace(\"May\", \"Μάι\")\n",
    "    rgc1[\"date_gr\"] = rgc1[\"date_gr\"].str.replace(\"Jun\", \"Ιούν\")\n",
    "    rgc1[\"date_gr\"] = rgc1[\"date_gr\"].str.replace(\"Jul\", \"Ιούλ\")\n",
    "    rgc1[\"cases\"] = rgc1[\"cases\"].astype(float)\n",
    "    rgc1['mvavg_cases'] = rgc1['cases'].rolling(window=7).mean().round()\n",
    "\n",
    "    def line_xaxis():\n",
    "        if lang == \"EL\":\n",
    "            return rgc1[6:].date_gr\n",
    "        else:\n",
    "            return rgc1[6:].date\n",
    "\n",
    "    # Initialize figure\n",
    "    fig = go.Figure()\n",
    "\n",
    "    # Add Traces\n",
    "    fig.add_trace(\n",
    "        go.Scatter(\n",
    "            x=line_xaxis(),\n",
    "            y=rgc1[6:].mvavg_cases,\n",
    "            mode=\"lines\",\n",
    "            connectgaps=True,\n",
    "            marker_color=\"#BA3A0A\",\n",
    "    #             name= 'Title',\n",
    "            line_shape=\"spline\",\n",
    "            line=dict(width=4)\n",
    "        )\n",
    "    )\n",
    "\n",
    "    fig.update_layout(\n",
    "        xaxis=dict(\n",
    "                showline=True,\n",
    "                zeroline=True,\n",
    "                showgrid=False,\n",
    "                showticklabels=True,\n",
    "                linecolor=\"#114B5F\",\n",
    "                linewidth=0.1,\n",
    "                ticks=\"outside\",\n",
    "                tickcolor=\"#BBBBBB\",\n",
    "                gridcolor=\"#F8FAFA\",\n",
    "                tickfont=TICKFONT,\n",
    "                dtick = 10\n",
    "            ),\n",
    "        yaxis=YAXIS,\n",
    "        showlegend=False,\n",
    "        legend=dict(font=dict(family=\"Roboto\", size=12, color=\"#114B5F\")),\n",
    "        paper_bgcolor=\"#E6ECEC\",\n",
    "        plot_bgcolor=\"#E6ECEC\",\n",
    "        title=dict(\n",
    "            text= labels.non_residents_line_title(lang),\n",
    "            font=dict(family=\"Roboto\", size=16, color=\"#114B5F\"),\n",
    "        ),\n",
    "        hoverlabel=dict(font_size=10, font_family=\"Roboto\"),\n",
    "        hovermode=\"closest\",\n",
    "        xaxis_title=dict(\n",
    "            text= labels.non_residents_line_xaxis_note(lang),\n",
    "            font=dict(family=\"Roboto\", size=8, color=\"#114B5F\"),\n",
    "            ),\n",
    "        yaxis_title=dict(text=labels.non_residents_line_yaxis_title(lang), font=TICKFONT),\n",
    "    )\n",
    "\n",
    "    fig.update_layout(height=450, margin=dict(l=10, r=10, b=10, t=90, pad=0))\n",
    "\n",
    "    if show:\n",
    "        config = dict(\n",
    "            {\n",
    "                \"displayModeBar\": True,\n",
    "                \"scrollZoom\": False,\n",
    "                \"displaylogo\": False,\n",
    "                \"responsive\": True,\n",
    "                \"staticPlot\": False,\n",
    "            }\n",
    "        )\n",
    "    fig.show()\n",
    "    if lang == 'EL':\n",
    "        fig.write_json(name + \".json\")\n",
    "    fig.write_json(name + \"_\" + lang + \".json\")"
   ]
  },
  {
   "cell_type": "code",
   "execution_count": 61,
   "metadata": {},
   "outputs": [
    {
     "data": {
      "application/vnd.plotly.v1+json": {
       "config": {
        "plotlyServerURL": "https://plot.ly"
       },
       "data": [
        {
         "connectgaps": true,
         "line": {
          "shape": "spline",
          "width": 4
         },
         "marker": {
          "color": "#BA3A0A"
         },
         "mode": "lines",
         "type": "scatter",
         "x": [
          "29-Απρ",
          "30-Απρ",
          "01-Μάι",
          "02-Μάι",
          "03-Μάι",
          "04-Μάι",
          "05-Μάι",
          "06-Μάι",
          "07-Μάι",
          "08-Μάι",
          "09-Μάι",
          "10-Μάι",
          "11-Μάι",
          "12-Μάι",
          "13-Μάι",
          "14-Μάι",
          "15-Μάι",
          "16-Μάι",
          "17-Μάι",
          "18-Μάι",
          "19-Μάι",
          "20-Μάι",
          "21-Μάι",
          "22-Μάι",
          "23-Μάι",
          "24-Μάι",
          "25-Μάι",
          "26-Μάι",
          "27-Μάι",
          "28-Μάι",
          "29-Μάι",
          "30-Μάι",
          "31-Μάι",
          "01-Ιούν",
          "02-Ιούν",
          "03-Ιούν",
          "04-Ιούν",
          "05-Ιούν",
          "06-Ιούν",
          "07-Ιούν",
          "08-Ιούν",
          "09-Ιούν",
          "10-Ιούν",
          "11-Ιούν",
          "12-Ιούν",
          "13-Ιούν",
          "14-Ιούν",
          "15-Ιούν",
          "16-Ιούν",
          "17-Ιούν",
          "18-Ιούν",
          "19-Ιούν",
          "20-Ιούν",
          "21-Ιούν",
          "22-Ιούν",
          "23-Ιούν",
          "24-Ιούν",
          "25-Ιούν",
          "26-Ιούν",
          "27-Ιούν",
          "28-Ιούν",
          "29-Ιούν",
          "30-Ιούν",
          "01-Ιούλ",
          "02-Ιούλ",
          "03-Ιούλ",
          "04-Ιούλ",
          "05-Ιούλ",
          "06-Ιούλ",
          "07-Ιούλ",
          "08-Ιούλ",
          "09-Ιούλ",
          "10-Ιούλ",
          "11-Ιούλ",
          "12-Ιούλ",
          "13-Ιούλ",
          "14-Ιούλ",
          "15-Ιούλ",
          "16-Ιούλ",
          "17-Ιούλ",
          "18-Ιούλ",
          "19-Ιούλ",
          "20-Ιούλ",
          "21-Ιούλ",
          "22-Ιούλ",
          "23-Ιούλ",
          "24-Ιούλ",
          "25-Ιούλ",
          "26-Ιούλ",
          "27-Ιούλ",
          "28-Ιούλ",
          "29-Ιούλ",
          "30-Ιούλ",
          "31-Ιούλ",
          "01-Aug",
          "02-Aug",
          "03-Aug",
          "04-Aug",
          "05-Aug",
          "06-Aug",
          "07-Aug",
          "08-Aug",
          "09-Aug",
          "10-Aug",
          "11-Aug",
          "12-Aug",
          "13-Aug",
          "14-Aug",
          "15-Aug",
          "16-Aug",
          "17-Aug",
          "18-Aug",
          "19-Aug",
          "20-Aug",
          "21-Aug",
          "22-Aug",
          "23-Aug"
         ],
         "y": [
          164,
          166,
          168,
          171,
          172,
          174,
          174,
          174,
          174,
          174,
          174,
          174,
          175,
          176,
          177,
          178,
          179,
          180,
          180,
          181,
          181,
          181,
          181,
          182,
          182,
          182,
          182,
          185,
          187,
          190,
          192,
          195,
          198,
          202,
          204,
          205,
          206,
          207,
          207,
          209,
          213,
          215,
          220,
          224,
          228,
          232,
          236,
          236,
          236,
          237,
          237,
          238,
          240,
          242,
          245,
          248,
          251,
          254,
          258,
          261,
          264,
          266,
          268,
          271,
          274,
          276,
          277,
          280,
          284,
          288,
          293,
          300,
          305,
          311,
          315,
          319,
          325,
          329,
          330,
          334,
          337,
          339,
          341,
          341,
          341,
          341,
          345,
          349,
          354,
          359,
          364,
          370,
          375,
          377,
          382,
          386,
          390,
          395,
          401,
          406,
          411,
          412,
          414,
          415,
          428,
          444,
          463,
          481,
          504,
          528,
          554,
          570,
          585,
          597,
          612,
          627,
          643
         ]
        }
       ],
       "layout": {
        "height": 450,
        "hoverlabel": {
         "font": {
          "family": "Roboto",
          "size": 10
         }
        },
        "hovermode": "closest",
        "legend": {
         "font": {
          "color": "#114B5F",
          "family": "Roboto",
          "size": 12
         }
        },
        "margin": {
         "b": 10,
         "l": 10,
         "pad": 0,
         "r": 10,
         "t": 90
        },
        "paper_bgcolor": "#E6ECEC",
        "plot_bgcolor": "#E6ECEC",
        "showlegend": false,
        "template": {
         "data": {
          "bar": [
           {
            "error_x": {
             "color": "#2a3f5f"
            },
            "error_y": {
             "color": "#2a3f5f"
            },
            "marker": {
             "line": {
              "color": "#E5ECF6",
              "width": 0.5
             }
            },
            "type": "bar"
           }
          ],
          "barpolar": [
           {
            "marker": {
             "line": {
              "color": "#E5ECF6",
              "width": 0.5
             }
            },
            "type": "barpolar"
           }
          ],
          "carpet": [
           {
            "aaxis": {
             "endlinecolor": "#2a3f5f",
             "gridcolor": "white",
             "linecolor": "white",
             "minorgridcolor": "white",
             "startlinecolor": "#2a3f5f"
            },
            "baxis": {
             "endlinecolor": "#2a3f5f",
             "gridcolor": "white",
             "linecolor": "white",
             "minorgridcolor": "white",
             "startlinecolor": "#2a3f5f"
            },
            "type": "carpet"
           }
          ],
          "choropleth": [
           {
            "colorbar": {
             "outlinewidth": 0,
             "ticks": ""
            },
            "type": "choropleth"
           }
          ],
          "contour": [
           {
            "colorbar": {
             "outlinewidth": 0,
             "ticks": ""
            },
            "colorscale": [
             [
              0,
              "#0d0887"
             ],
             [
              0.1111111111111111,
              "#46039f"
             ],
             [
              0.2222222222222222,
              "#7201a8"
             ],
             [
              0.3333333333333333,
              "#9c179e"
             ],
             [
              0.4444444444444444,
              "#bd3786"
             ],
             [
              0.5555555555555556,
              "#d8576b"
             ],
             [
              0.6666666666666666,
              "#ed7953"
             ],
             [
              0.7777777777777778,
              "#fb9f3a"
             ],
             [
              0.8888888888888888,
              "#fdca26"
             ],
             [
              1,
              "#f0f921"
             ]
            ],
            "type": "contour"
           }
          ],
          "contourcarpet": [
           {
            "colorbar": {
             "outlinewidth": 0,
             "ticks": ""
            },
            "type": "contourcarpet"
           }
          ],
          "heatmap": [
           {
            "colorbar": {
             "outlinewidth": 0,
             "ticks": ""
            },
            "colorscale": [
             [
              0,
              "#0d0887"
             ],
             [
              0.1111111111111111,
              "#46039f"
             ],
             [
              0.2222222222222222,
              "#7201a8"
             ],
             [
              0.3333333333333333,
              "#9c179e"
             ],
             [
              0.4444444444444444,
              "#bd3786"
             ],
             [
              0.5555555555555556,
              "#d8576b"
             ],
             [
              0.6666666666666666,
              "#ed7953"
             ],
             [
              0.7777777777777778,
              "#fb9f3a"
             ],
             [
              0.8888888888888888,
              "#fdca26"
             ],
             [
              1,
              "#f0f921"
             ]
            ],
            "type": "heatmap"
           }
          ],
          "heatmapgl": [
           {
            "colorbar": {
             "outlinewidth": 0,
             "ticks": ""
            },
            "colorscale": [
             [
              0,
              "#0d0887"
             ],
             [
              0.1111111111111111,
              "#46039f"
             ],
             [
              0.2222222222222222,
              "#7201a8"
             ],
             [
              0.3333333333333333,
              "#9c179e"
             ],
             [
              0.4444444444444444,
              "#bd3786"
             ],
             [
              0.5555555555555556,
              "#d8576b"
             ],
             [
              0.6666666666666666,
              "#ed7953"
             ],
             [
              0.7777777777777778,
              "#fb9f3a"
             ],
             [
              0.8888888888888888,
              "#fdca26"
             ],
             [
              1,
              "#f0f921"
             ]
            ],
            "type": "heatmapgl"
           }
          ],
          "histogram": [
           {
            "marker": {
             "colorbar": {
              "outlinewidth": 0,
              "ticks": ""
             }
            },
            "type": "histogram"
           }
          ],
          "histogram2d": [
           {
            "colorbar": {
             "outlinewidth": 0,
             "ticks": ""
            },
            "colorscale": [
             [
              0,
              "#0d0887"
             ],
             [
              0.1111111111111111,
              "#46039f"
             ],
             [
              0.2222222222222222,
              "#7201a8"
             ],
             [
              0.3333333333333333,
              "#9c179e"
             ],
             [
              0.4444444444444444,
              "#bd3786"
             ],
             [
              0.5555555555555556,
              "#d8576b"
             ],
             [
              0.6666666666666666,
              "#ed7953"
             ],
             [
              0.7777777777777778,
              "#fb9f3a"
             ],
             [
              0.8888888888888888,
              "#fdca26"
             ],
             [
              1,
              "#f0f921"
             ]
            ],
            "type": "histogram2d"
           }
          ],
          "histogram2dcontour": [
           {
            "colorbar": {
             "outlinewidth": 0,
             "ticks": ""
            },
            "colorscale": [
             [
              0,
              "#0d0887"
             ],
             [
              0.1111111111111111,
              "#46039f"
             ],
             [
              0.2222222222222222,
              "#7201a8"
             ],
             [
              0.3333333333333333,
              "#9c179e"
             ],
             [
              0.4444444444444444,
              "#bd3786"
             ],
             [
              0.5555555555555556,
              "#d8576b"
             ],
             [
              0.6666666666666666,
              "#ed7953"
             ],
             [
              0.7777777777777778,
              "#fb9f3a"
             ],
             [
              0.8888888888888888,
              "#fdca26"
             ],
             [
              1,
              "#f0f921"
             ]
            ],
            "type": "histogram2dcontour"
           }
          ],
          "mesh3d": [
           {
            "colorbar": {
             "outlinewidth": 0,
             "ticks": ""
            },
            "type": "mesh3d"
           }
          ],
          "parcoords": [
           {
            "line": {
             "colorbar": {
              "outlinewidth": 0,
              "ticks": ""
             }
            },
            "type": "parcoords"
           }
          ],
          "pie": [
           {
            "automargin": true,
            "type": "pie"
           }
          ],
          "scatter": [
           {
            "marker": {
             "colorbar": {
              "outlinewidth": 0,
              "ticks": ""
             }
            },
            "type": "scatter"
           }
          ],
          "scatter3d": [
           {
            "line": {
             "colorbar": {
              "outlinewidth": 0,
              "ticks": ""
             }
            },
            "marker": {
             "colorbar": {
              "outlinewidth": 0,
              "ticks": ""
             }
            },
            "type": "scatter3d"
           }
          ],
          "scattercarpet": [
           {
            "marker": {
             "colorbar": {
              "outlinewidth": 0,
              "ticks": ""
             }
            },
            "type": "scattercarpet"
           }
          ],
          "scattergeo": [
           {
            "marker": {
             "colorbar": {
              "outlinewidth": 0,
              "ticks": ""
             }
            },
            "type": "scattergeo"
           }
          ],
          "scattergl": [
           {
            "marker": {
             "colorbar": {
              "outlinewidth": 0,
              "ticks": ""
             }
            },
            "type": "scattergl"
           }
          ],
          "scattermapbox": [
           {
            "marker": {
             "colorbar": {
              "outlinewidth": 0,
              "ticks": ""
             }
            },
            "type": "scattermapbox"
           }
          ],
          "scatterpolar": [
           {
            "marker": {
             "colorbar": {
              "outlinewidth": 0,
              "ticks": ""
             }
            },
            "type": "scatterpolar"
           }
          ],
          "scatterpolargl": [
           {
            "marker": {
             "colorbar": {
              "outlinewidth": 0,
              "ticks": ""
             }
            },
            "type": "scatterpolargl"
           }
          ],
          "scatterternary": [
           {
            "marker": {
             "colorbar": {
              "outlinewidth": 0,
              "ticks": ""
             }
            },
            "type": "scatterternary"
           }
          ],
          "surface": [
           {
            "colorbar": {
             "outlinewidth": 0,
             "ticks": ""
            },
            "colorscale": [
             [
              0,
              "#0d0887"
             ],
             [
              0.1111111111111111,
              "#46039f"
             ],
             [
              0.2222222222222222,
              "#7201a8"
             ],
             [
              0.3333333333333333,
              "#9c179e"
             ],
             [
              0.4444444444444444,
              "#bd3786"
             ],
             [
              0.5555555555555556,
              "#d8576b"
             ],
             [
              0.6666666666666666,
              "#ed7953"
             ],
             [
              0.7777777777777778,
              "#fb9f3a"
             ],
             [
              0.8888888888888888,
              "#fdca26"
             ],
             [
              1,
              "#f0f921"
             ]
            ],
            "type": "surface"
           }
          ],
          "table": [
           {
            "cells": {
             "fill": {
              "color": "#EBF0F8"
             },
             "line": {
              "color": "white"
             }
            },
            "header": {
             "fill": {
              "color": "#C8D4E3"
             },
             "line": {
              "color": "white"
             }
            },
            "type": "table"
           }
          ]
         },
         "layout": {
          "annotationdefaults": {
           "arrowcolor": "#2a3f5f",
           "arrowhead": 0,
           "arrowwidth": 1
          },
          "coloraxis": {
           "colorbar": {
            "outlinewidth": 0,
            "ticks": ""
           }
          },
          "colorscale": {
           "diverging": [
            [
             0,
             "#8e0152"
            ],
            [
             0.1,
             "#c51b7d"
            ],
            [
             0.2,
             "#de77ae"
            ],
            [
             0.3,
             "#f1b6da"
            ],
            [
             0.4,
             "#fde0ef"
            ],
            [
             0.5,
             "#f7f7f7"
            ],
            [
             0.6,
             "#e6f5d0"
            ],
            [
             0.7,
             "#b8e186"
            ],
            [
             0.8,
             "#7fbc41"
            ],
            [
             0.9,
             "#4d9221"
            ],
            [
             1,
             "#276419"
            ]
           ],
           "sequential": [
            [
             0,
             "#0d0887"
            ],
            [
             0.1111111111111111,
             "#46039f"
            ],
            [
             0.2222222222222222,
             "#7201a8"
            ],
            [
             0.3333333333333333,
             "#9c179e"
            ],
            [
             0.4444444444444444,
             "#bd3786"
            ],
            [
             0.5555555555555556,
             "#d8576b"
            ],
            [
             0.6666666666666666,
             "#ed7953"
            ],
            [
             0.7777777777777778,
             "#fb9f3a"
            ],
            [
             0.8888888888888888,
             "#fdca26"
            ],
            [
             1,
             "#f0f921"
            ]
           ],
           "sequentialminus": [
            [
             0,
             "#0d0887"
            ],
            [
             0.1111111111111111,
             "#46039f"
            ],
            [
             0.2222222222222222,
             "#7201a8"
            ],
            [
             0.3333333333333333,
             "#9c179e"
            ],
            [
             0.4444444444444444,
             "#bd3786"
            ],
            [
             0.5555555555555556,
             "#d8576b"
            ],
            [
             0.6666666666666666,
             "#ed7953"
            ],
            [
             0.7777777777777778,
             "#fb9f3a"
            ],
            [
             0.8888888888888888,
             "#fdca26"
            ],
            [
             1,
             "#f0f921"
            ]
           ]
          },
          "colorway": [
           "#636efa",
           "#EF553B",
           "#00cc96",
           "#ab63fa",
           "#FFA15A",
           "#19d3f3",
           "#FF6692",
           "#B6E880",
           "#FF97FF",
           "#FECB52"
          ],
          "font": {
           "color": "#2a3f5f"
          },
          "geo": {
           "bgcolor": "white",
           "lakecolor": "white",
           "landcolor": "#E5ECF6",
           "showlakes": true,
           "showland": true,
           "subunitcolor": "white"
          },
          "hoverlabel": {
           "align": "left"
          },
          "hovermode": "closest",
          "mapbox": {
           "style": "light"
          },
          "paper_bgcolor": "white",
          "plot_bgcolor": "#E5ECF6",
          "polar": {
           "angularaxis": {
            "gridcolor": "white",
            "linecolor": "white",
            "ticks": ""
           },
           "bgcolor": "#E5ECF6",
           "radialaxis": {
            "gridcolor": "white",
            "linecolor": "white",
            "ticks": ""
           }
          },
          "scene": {
           "xaxis": {
            "backgroundcolor": "#E5ECF6",
            "gridcolor": "white",
            "gridwidth": 2,
            "linecolor": "white",
            "showbackground": true,
            "ticks": "",
            "zerolinecolor": "white"
           },
           "yaxis": {
            "backgroundcolor": "#E5ECF6",
            "gridcolor": "white",
            "gridwidth": 2,
            "linecolor": "white",
            "showbackground": true,
            "ticks": "",
            "zerolinecolor": "white"
           },
           "zaxis": {
            "backgroundcolor": "#E5ECF6",
            "gridcolor": "white",
            "gridwidth": 2,
            "linecolor": "white",
            "showbackground": true,
            "ticks": "",
            "zerolinecolor": "white"
           }
          },
          "shapedefaults": {
           "line": {
            "color": "#2a3f5f"
           }
          },
          "ternary": {
           "aaxis": {
            "gridcolor": "white",
            "linecolor": "white",
            "ticks": ""
           },
           "baxis": {
            "gridcolor": "white",
            "linecolor": "white",
            "ticks": ""
           },
           "bgcolor": "#E5ECF6",
           "caxis": {
            "gridcolor": "white",
            "linecolor": "white",
            "ticks": ""
           }
          },
          "title": {
           "x": 0.05
          },
          "xaxis": {
           "automargin": true,
           "gridcolor": "white",
           "linecolor": "white",
           "ticks": "",
           "title": {
            "standoff": 15
           },
           "zerolinecolor": "white",
           "zerolinewidth": 2
          },
          "yaxis": {
           "automargin": true,
           "gridcolor": "white",
           "linecolor": "white",
           "ticks": "",
           "title": {
            "standoff": 15
           },
           "zerolinecolor": "white",
           "zerolinewidth": 2
          }
         }
        },
        "title": {
         "font": {
          "color": "#114B5F",
          "family": "Roboto",
          "size": 16
         },
         "text": "Εξέλιξη κρουσμάτων <b>χωρίς μόνιμη κατοικία</b> στην Ελλάδα"
        },
        "xaxis": {
         "dtick": 10,
         "gridcolor": "#F8FAFA",
         "linecolor": "#114B5F",
         "linewidth": 0.1,
         "showgrid": false,
         "showline": true,
         "showticklabels": true,
         "tickcolor": "#BBBBBB",
         "tickfont": {
          "color": "#114B5F",
          "family": "Roboto",
          "size": 12
         },
         "ticks": "outside",
         "title": {
          "font": {
           "color": "#114B5F",
           "family": "Roboto",
           "size": 8
          },
          "text": "<i>Περιλαμβάνονται συνολικά 126 κρούσματα από το πλοίο «Ελευθέριος Βενιζέλος».</i>"
         },
         "zeroline": true
        },
        "yaxis": {
         "gridcolor": "#F8FAFA",
         "linecolor": "#114B5F",
         "linewidth": 0.1,
         "showgrid": true,
         "showline": true,
         "showticklabels": true,
         "tickcolor": "#BBBBBB",
         "tickfont": {
          "color": "#114B5F",
          "family": "Roboto",
          "size": 12
         },
         "ticks": "outside",
         "title": {
          "font": {
           "color": "#114B5F",
           "family": "Roboto",
           "size": 12
          },
          "text": "Κυλιόμενος μέσος όρος 7 ημερών"
         },
         "zeroline": false
        }
       }
      },
      "text/html": [
       "<div>\n",
       "        \n",
       "        \n",
       "            <div id=\"a5aea17e-8df3-4acb-9e96-e6c3486f32a5\" class=\"plotly-graph-div\" style=\"height:450px; width:100%;\"></div>\n",
       "            <script type=\"text/javascript\">\n",
       "                require([\"plotly\"], function(Plotly) {\n",
       "                    window.PLOTLYENV=window.PLOTLYENV || {};\n",
       "                    \n",
       "                if (document.getElementById(\"a5aea17e-8df3-4acb-9e96-e6c3486f32a5\")) {\n",
       "                    Plotly.newPlot(\n",
       "                        'a5aea17e-8df3-4acb-9e96-e6c3486f32a5',\n",
       "                        [{\"connectgaps\": true, \"line\": {\"shape\": \"spline\", \"width\": 4}, \"marker\": {\"color\": \"#BA3A0A\"}, \"mode\": \"lines\", \"type\": \"scatter\", \"x\": [\"29-\\u0391\\u03c0\\u03c1\", \"30-\\u0391\\u03c0\\u03c1\", \"01-\\u039c\\u03ac\\u03b9\", \"02-\\u039c\\u03ac\\u03b9\", \"03-\\u039c\\u03ac\\u03b9\", \"04-\\u039c\\u03ac\\u03b9\", \"05-\\u039c\\u03ac\\u03b9\", \"06-\\u039c\\u03ac\\u03b9\", \"07-\\u039c\\u03ac\\u03b9\", \"08-\\u039c\\u03ac\\u03b9\", \"09-\\u039c\\u03ac\\u03b9\", \"10-\\u039c\\u03ac\\u03b9\", \"11-\\u039c\\u03ac\\u03b9\", \"12-\\u039c\\u03ac\\u03b9\", \"13-\\u039c\\u03ac\\u03b9\", \"14-\\u039c\\u03ac\\u03b9\", \"15-\\u039c\\u03ac\\u03b9\", \"16-\\u039c\\u03ac\\u03b9\", \"17-\\u039c\\u03ac\\u03b9\", \"18-\\u039c\\u03ac\\u03b9\", \"19-\\u039c\\u03ac\\u03b9\", \"20-\\u039c\\u03ac\\u03b9\", \"21-\\u039c\\u03ac\\u03b9\", \"22-\\u039c\\u03ac\\u03b9\", \"23-\\u039c\\u03ac\\u03b9\", \"24-\\u039c\\u03ac\\u03b9\", \"25-\\u039c\\u03ac\\u03b9\", \"26-\\u039c\\u03ac\\u03b9\", \"27-\\u039c\\u03ac\\u03b9\", \"28-\\u039c\\u03ac\\u03b9\", \"29-\\u039c\\u03ac\\u03b9\", \"30-\\u039c\\u03ac\\u03b9\", \"31-\\u039c\\u03ac\\u03b9\", \"01-\\u0399\\u03bf\\u03cd\\u03bd\", \"02-\\u0399\\u03bf\\u03cd\\u03bd\", \"03-\\u0399\\u03bf\\u03cd\\u03bd\", \"04-\\u0399\\u03bf\\u03cd\\u03bd\", \"05-\\u0399\\u03bf\\u03cd\\u03bd\", \"06-\\u0399\\u03bf\\u03cd\\u03bd\", \"07-\\u0399\\u03bf\\u03cd\\u03bd\", \"08-\\u0399\\u03bf\\u03cd\\u03bd\", \"09-\\u0399\\u03bf\\u03cd\\u03bd\", \"10-\\u0399\\u03bf\\u03cd\\u03bd\", \"11-\\u0399\\u03bf\\u03cd\\u03bd\", \"12-\\u0399\\u03bf\\u03cd\\u03bd\", \"13-\\u0399\\u03bf\\u03cd\\u03bd\", \"14-\\u0399\\u03bf\\u03cd\\u03bd\", \"15-\\u0399\\u03bf\\u03cd\\u03bd\", \"16-\\u0399\\u03bf\\u03cd\\u03bd\", \"17-\\u0399\\u03bf\\u03cd\\u03bd\", \"18-\\u0399\\u03bf\\u03cd\\u03bd\", \"19-\\u0399\\u03bf\\u03cd\\u03bd\", \"20-\\u0399\\u03bf\\u03cd\\u03bd\", \"21-\\u0399\\u03bf\\u03cd\\u03bd\", \"22-\\u0399\\u03bf\\u03cd\\u03bd\", \"23-\\u0399\\u03bf\\u03cd\\u03bd\", \"24-\\u0399\\u03bf\\u03cd\\u03bd\", \"25-\\u0399\\u03bf\\u03cd\\u03bd\", \"26-\\u0399\\u03bf\\u03cd\\u03bd\", \"27-\\u0399\\u03bf\\u03cd\\u03bd\", \"28-\\u0399\\u03bf\\u03cd\\u03bd\", \"29-\\u0399\\u03bf\\u03cd\\u03bd\", \"30-\\u0399\\u03bf\\u03cd\\u03bd\", \"01-\\u0399\\u03bf\\u03cd\\u03bb\", \"02-\\u0399\\u03bf\\u03cd\\u03bb\", \"03-\\u0399\\u03bf\\u03cd\\u03bb\", \"04-\\u0399\\u03bf\\u03cd\\u03bb\", \"05-\\u0399\\u03bf\\u03cd\\u03bb\", \"06-\\u0399\\u03bf\\u03cd\\u03bb\", \"07-\\u0399\\u03bf\\u03cd\\u03bb\", \"08-\\u0399\\u03bf\\u03cd\\u03bb\", \"09-\\u0399\\u03bf\\u03cd\\u03bb\", \"10-\\u0399\\u03bf\\u03cd\\u03bb\", \"11-\\u0399\\u03bf\\u03cd\\u03bb\", \"12-\\u0399\\u03bf\\u03cd\\u03bb\", \"13-\\u0399\\u03bf\\u03cd\\u03bb\", \"14-\\u0399\\u03bf\\u03cd\\u03bb\", \"15-\\u0399\\u03bf\\u03cd\\u03bb\", \"16-\\u0399\\u03bf\\u03cd\\u03bb\", \"17-\\u0399\\u03bf\\u03cd\\u03bb\", \"18-\\u0399\\u03bf\\u03cd\\u03bb\", \"19-\\u0399\\u03bf\\u03cd\\u03bb\", \"20-\\u0399\\u03bf\\u03cd\\u03bb\", \"21-\\u0399\\u03bf\\u03cd\\u03bb\", \"22-\\u0399\\u03bf\\u03cd\\u03bb\", \"23-\\u0399\\u03bf\\u03cd\\u03bb\", \"24-\\u0399\\u03bf\\u03cd\\u03bb\", \"25-\\u0399\\u03bf\\u03cd\\u03bb\", \"26-\\u0399\\u03bf\\u03cd\\u03bb\", \"27-\\u0399\\u03bf\\u03cd\\u03bb\", \"28-\\u0399\\u03bf\\u03cd\\u03bb\", \"29-\\u0399\\u03bf\\u03cd\\u03bb\", \"30-\\u0399\\u03bf\\u03cd\\u03bb\", \"31-\\u0399\\u03bf\\u03cd\\u03bb\", \"01-Aug\", \"02-Aug\", \"03-Aug\", \"04-Aug\", \"05-Aug\", \"06-Aug\", \"07-Aug\", \"08-Aug\", \"09-Aug\", \"10-Aug\", \"11-Aug\", \"12-Aug\", \"13-Aug\", \"14-Aug\", \"15-Aug\", \"16-Aug\", \"17-Aug\", \"18-Aug\", \"19-Aug\", \"20-Aug\", \"21-Aug\", \"22-Aug\", \"23-Aug\"], \"y\": [164.0, 166.0, 168.0, 171.0, 172.0, 174.0, 174.0, 174.0, 174.0, 174.0, 174.0, 174.0, 175.0, 176.0, 177.0, 178.0, 179.0, 180.0, 180.0, 181.0, 181.0, 181.0, 181.0, 182.0, 182.0, 182.0, 182.0, 185.0, 187.0, 190.0, 192.0, 195.0, 198.0, 202.0, 204.0, 205.0, 206.0, 207.0, 207.0, 209.0, 213.0, 215.0, 220.0, 224.0, 228.0, 232.0, 236.0, 236.0, 236.0, 237.0, 237.0, 238.0, 240.0, 242.0, 245.0, 248.0, 251.0, 254.0, 258.0, 261.0, 264.0, 266.0, 268.0, 271.0, 274.0, 276.0, 277.0, 280.0, 284.0, 288.0, 293.0, 300.0, 305.0, 311.0, 315.0, 319.0, 325.0, 329.0, 330.0, 334.0, 337.0, 339.0, 341.0, 341.0, 341.0, 341.0, 345.0, 349.0, 354.0, 359.0, 364.0, 370.0, 375.0, 377.0, 382.0, 386.0, 390.0, 395.0, 401.0, 406.0, 411.0, 412.0, 414.0, 415.0, 428.0, 444.0, 463.0, 481.0, 504.0, 528.0, 554.0, 570.0, 585.0, 597.0, 612.0, 627.0, 643.0]}],\n",
       "                        {\"height\": 450, \"hoverlabel\": {\"font\": {\"family\": \"Roboto\", \"size\": 10}}, \"hovermode\": \"closest\", \"legend\": {\"font\": {\"color\": \"#114B5F\", \"family\": \"Roboto\", \"size\": 12}}, \"margin\": {\"b\": 10, \"l\": 10, \"pad\": 0, \"r\": 10, \"t\": 90}, \"paper_bgcolor\": \"#E6ECEC\", \"plot_bgcolor\": \"#E6ECEC\", \"showlegend\": false, \"template\": {\"data\": {\"bar\": [{\"error_x\": {\"color\": \"#2a3f5f\"}, \"error_y\": {\"color\": \"#2a3f5f\"}, \"marker\": {\"line\": {\"color\": \"#E5ECF6\", \"width\": 0.5}}, \"type\": \"bar\"}], \"barpolar\": [{\"marker\": {\"line\": {\"color\": \"#E5ECF6\", \"width\": 0.5}}, \"type\": \"barpolar\"}], \"carpet\": [{\"aaxis\": {\"endlinecolor\": \"#2a3f5f\", \"gridcolor\": \"white\", \"linecolor\": \"white\", \"minorgridcolor\": \"white\", \"startlinecolor\": \"#2a3f5f\"}, \"baxis\": {\"endlinecolor\": \"#2a3f5f\", \"gridcolor\": \"white\", \"linecolor\": \"white\", \"minorgridcolor\": \"white\", \"startlinecolor\": \"#2a3f5f\"}, \"type\": \"carpet\"}], \"choropleth\": [{\"colorbar\": {\"outlinewidth\": 0, \"ticks\": \"\"}, \"type\": \"choropleth\"}], \"contour\": [{\"colorbar\": {\"outlinewidth\": 0, \"ticks\": \"\"}, \"colorscale\": [[0.0, \"#0d0887\"], [0.1111111111111111, \"#46039f\"], [0.2222222222222222, \"#7201a8\"], [0.3333333333333333, \"#9c179e\"], [0.4444444444444444, \"#bd3786\"], [0.5555555555555556, \"#d8576b\"], [0.6666666666666666, \"#ed7953\"], [0.7777777777777778, \"#fb9f3a\"], [0.8888888888888888, \"#fdca26\"], [1.0, \"#f0f921\"]], \"type\": \"contour\"}], \"contourcarpet\": [{\"colorbar\": {\"outlinewidth\": 0, \"ticks\": \"\"}, \"type\": \"contourcarpet\"}], \"heatmap\": [{\"colorbar\": {\"outlinewidth\": 0, \"ticks\": \"\"}, \"colorscale\": [[0.0, \"#0d0887\"], [0.1111111111111111, \"#46039f\"], [0.2222222222222222, \"#7201a8\"], [0.3333333333333333, \"#9c179e\"], [0.4444444444444444, \"#bd3786\"], [0.5555555555555556, \"#d8576b\"], [0.6666666666666666, \"#ed7953\"], [0.7777777777777778, \"#fb9f3a\"], [0.8888888888888888, \"#fdca26\"], [1.0, \"#f0f921\"]], \"type\": \"heatmap\"}], \"heatmapgl\": [{\"colorbar\": {\"outlinewidth\": 0, \"ticks\": \"\"}, \"colorscale\": [[0.0, \"#0d0887\"], [0.1111111111111111, \"#46039f\"], [0.2222222222222222, \"#7201a8\"], [0.3333333333333333, \"#9c179e\"], [0.4444444444444444, \"#bd3786\"], [0.5555555555555556, \"#d8576b\"], [0.6666666666666666, \"#ed7953\"], [0.7777777777777778, \"#fb9f3a\"], [0.8888888888888888, \"#fdca26\"], [1.0, \"#f0f921\"]], \"type\": \"heatmapgl\"}], \"histogram\": [{\"marker\": {\"colorbar\": {\"outlinewidth\": 0, \"ticks\": \"\"}}, \"type\": \"histogram\"}], \"histogram2d\": [{\"colorbar\": {\"outlinewidth\": 0, \"ticks\": \"\"}, \"colorscale\": [[0.0, \"#0d0887\"], [0.1111111111111111, \"#46039f\"], [0.2222222222222222, \"#7201a8\"], [0.3333333333333333, \"#9c179e\"], [0.4444444444444444, \"#bd3786\"], [0.5555555555555556, \"#d8576b\"], [0.6666666666666666, \"#ed7953\"], [0.7777777777777778, \"#fb9f3a\"], [0.8888888888888888, \"#fdca26\"], [1.0, \"#f0f921\"]], \"type\": \"histogram2d\"}], \"histogram2dcontour\": [{\"colorbar\": {\"outlinewidth\": 0, \"ticks\": \"\"}, \"colorscale\": [[0.0, \"#0d0887\"], [0.1111111111111111, \"#46039f\"], [0.2222222222222222, \"#7201a8\"], [0.3333333333333333, \"#9c179e\"], [0.4444444444444444, \"#bd3786\"], [0.5555555555555556, \"#d8576b\"], [0.6666666666666666, \"#ed7953\"], [0.7777777777777778, \"#fb9f3a\"], [0.8888888888888888, \"#fdca26\"], [1.0, \"#f0f921\"]], \"type\": \"histogram2dcontour\"}], \"mesh3d\": [{\"colorbar\": {\"outlinewidth\": 0, \"ticks\": \"\"}, \"type\": \"mesh3d\"}], \"parcoords\": [{\"line\": {\"colorbar\": {\"outlinewidth\": 0, \"ticks\": \"\"}}, \"type\": \"parcoords\"}], \"pie\": [{\"automargin\": true, \"type\": \"pie\"}], \"scatter\": [{\"marker\": {\"colorbar\": {\"outlinewidth\": 0, \"ticks\": \"\"}}, \"type\": \"scatter\"}], \"scatter3d\": [{\"line\": {\"colorbar\": {\"outlinewidth\": 0, \"ticks\": \"\"}}, \"marker\": {\"colorbar\": {\"outlinewidth\": 0, \"ticks\": \"\"}}, \"type\": \"scatter3d\"}], \"scattercarpet\": [{\"marker\": {\"colorbar\": {\"outlinewidth\": 0, \"ticks\": \"\"}}, \"type\": \"scattercarpet\"}], \"scattergeo\": [{\"marker\": {\"colorbar\": {\"outlinewidth\": 0, \"ticks\": \"\"}}, \"type\": \"scattergeo\"}], \"scattergl\": [{\"marker\": {\"colorbar\": {\"outlinewidth\": 0, \"ticks\": \"\"}}, \"type\": \"scattergl\"}], \"scattermapbox\": [{\"marker\": {\"colorbar\": {\"outlinewidth\": 0, \"ticks\": \"\"}}, \"type\": \"scattermapbox\"}], \"scatterpolar\": [{\"marker\": {\"colorbar\": {\"outlinewidth\": 0, \"ticks\": \"\"}}, \"type\": \"scatterpolar\"}], \"scatterpolargl\": [{\"marker\": {\"colorbar\": {\"outlinewidth\": 0, \"ticks\": \"\"}}, \"type\": \"scatterpolargl\"}], \"scatterternary\": [{\"marker\": {\"colorbar\": {\"outlinewidth\": 0, \"ticks\": \"\"}}, \"type\": \"scatterternary\"}], \"surface\": [{\"colorbar\": {\"outlinewidth\": 0, \"ticks\": \"\"}, \"colorscale\": [[0.0, \"#0d0887\"], [0.1111111111111111, \"#46039f\"], [0.2222222222222222, \"#7201a8\"], [0.3333333333333333, \"#9c179e\"], [0.4444444444444444, \"#bd3786\"], [0.5555555555555556, \"#d8576b\"], [0.6666666666666666, \"#ed7953\"], [0.7777777777777778, \"#fb9f3a\"], [0.8888888888888888, \"#fdca26\"], [1.0, \"#f0f921\"]], \"type\": \"surface\"}], \"table\": [{\"cells\": {\"fill\": {\"color\": \"#EBF0F8\"}, \"line\": {\"color\": \"white\"}}, \"header\": {\"fill\": {\"color\": \"#C8D4E3\"}, \"line\": {\"color\": \"white\"}}, \"type\": \"table\"}]}, \"layout\": {\"annotationdefaults\": {\"arrowcolor\": \"#2a3f5f\", \"arrowhead\": 0, \"arrowwidth\": 1}, \"coloraxis\": {\"colorbar\": {\"outlinewidth\": 0, \"ticks\": \"\"}}, \"colorscale\": {\"diverging\": [[0, \"#8e0152\"], [0.1, \"#c51b7d\"], [0.2, \"#de77ae\"], [0.3, \"#f1b6da\"], [0.4, \"#fde0ef\"], [0.5, \"#f7f7f7\"], [0.6, \"#e6f5d0\"], [0.7, \"#b8e186\"], [0.8, \"#7fbc41\"], [0.9, \"#4d9221\"], [1, \"#276419\"]], \"sequential\": [[0.0, \"#0d0887\"], [0.1111111111111111, \"#46039f\"], [0.2222222222222222, \"#7201a8\"], [0.3333333333333333, \"#9c179e\"], [0.4444444444444444, \"#bd3786\"], [0.5555555555555556, \"#d8576b\"], [0.6666666666666666, \"#ed7953\"], [0.7777777777777778, \"#fb9f3a\"], [0.8888888888888888, \"#fdca26\"], [1.0, \"#f0f921\"]], \"sequentialminus\": [[0.0, \"#0d0887\"], [0.1111111111111111, \"#46039f\"], [0.2222222222222222, \"#7201a8\"], [0.3333333333333333, \"#9c179e\"], [0.4444444444444444, \"#bd3786\"], [0.5555555555555556, \"#d8576b\"], [0.6666666666666666, \"#ed7953\"], [0.7777777777777778, \"#fb9f3a\"], [0.8888888888888888, \"#fdca26\"], [1.0, \"#f0f921\"]]}, \"colorway\": [\"#636efa\", \"#EF553B\", \"#00cc96\", \"#ab63fa\", \"#FFA15A\", \"#19d3f3\", \"#FF6692\", \"#B6E880\", \"#FF97FF\", \"#FECB52\"], \"font\": {\"color\": \"#2a3f5f\"}, \"geo\": {\"bgcolor\": \"white\", \"lakecolor\": \"white\", \"landcolor\": \"#E5ECF6\", \"showlakes\": true, \"showland\": true, \"subunitcolor\": \"white\"}, \"hoverlabel\": {\"align\": \"left\"}, \"hovermode\": \"closest\", \"mapbox\": {\"style\": \"light\"}, \"paper_bgcolor\": \"white\", \"plot_bgcolor\": \"#E5ECF6\", \"polar\": {\"angularaxis\": {\"gridcolor\": \"white\", \"linecolor\": \"white\", \"ticks\": \"\"}, \"bgcolor\": \"#E5ECF6\", \"radialaxis\": {\"gridcolor\": \"white\", \"linecolor\": \"white\", \"ticks\": \"\"}}, \"scene\": {\"xaxis\": {\"backgroundcolor\": \"#E5ECF6\", \"gridcolor\": \"white\", \"gridwidth\": 2, \"linecolor\": \"white\", \"showbackground\": true, \"ticks\": \"\", \"zerolinecolor\": \"white\"}, \"yaxis\": {\"backgroundcolor\": \"#E5ECF6\", \"gridcolor\": \"white\", \"gridwidth\": 2, \"linecolor\": \"white\", \"showbackground\": true, \"ticks\": \"\", \"zerolinecolor\": \"white\"}, \"zaxis\": {\"backgroundcolor\": \"#E5ECF6\", \"gridcolor\": \"white\", \"gridwidth\": 2, \"linecolor\": \"white\", \"showbackground\": true, \"ticks\": \"\", \"zerolinecolor\": \"white\"}}, \"shapedefaults\": {\"line\": {\"color\": \"#2a3f5f\"}}, \"ternary\": {\"aaxis\": {\"gridcolor\": \"white\", \"linecolor\": \"white\", \"ticks\": \"\"}, \"baxis\": {\"gridcolor\": \"white\", \"linecolor\": \"white\", \"ticks\": \"\"}, \"bgcolor\": \"#E5ECF6\", \"caxis\": {\"gridcolor\": \"white\", \"linecolor\": \"white\", \"ticks\": \"\"}}, \"title\": {\"x\": 0.05}, \"xaxis\": {\"automargin\": true, \"gridcolor\": \"white\", \"linecolor\": \"white\", \"ticks\": \"\", \"title\": {\"standoff\": 15}, \"zerolinecolor\": \"white\", \"zerolinewidth\": 2}, \"yaxis\": {\"automargin\": true, \"gridcolor\": \"white\", \"linecolor\": \"white\", \"ticks\": \"\", \"title\": {\"standoff\": 15}, \"zerolinecolor\": \"white\", \"zerolinewidth\": 2}}}, \"title\": {\"font\": {\"color\": \"#114B5F\", \"family\": \"Roboto\", \"size\": 16}, \"text\": \"\\u0395\\u03be\\u03ad\\u03bb\\u03b9\\u03be\\u03b7 \\u03ba\\u03c1\\u03bf\\u03c5\\u03c3\\u03bc\\u03ac\\u03c4\\u03c9\\u03bd <b>\\u03c7\\u03c9\\u03c1\\u03af\\u03c2 \\u03bc\\u03cc\\u03bd\\u03b9\\u03bc\\u03b7 \\u03ba\\u03b1\\u03c4\\u03bf\\u03b9\\u03ba\\u03af\\u03b1</b> \\u03c3\\u03c4\\u03b7\\u03bd \\u0395\\u03bb\\u03bb\\u03ac\\u03b4\\u03b1\"}, \"xaxis\": {\"dtick\": 10, \"gridcolor\": \"#F8FAFA\", \"linecolor\": \"#114B5F\", \"linewidth\": 0.1, \"showgrid\": false, \"showline\": true, \"showticklabels\": true, \"tickcolor\": \"#BBBBBB\", \"tickfont\": {\"color\": \"#114B5F\", \"family\": \"Roboto\", \"size\": 12}, \"ticks\": \"outside\", \"title\": {\"font\": {\"color\": \"#114B5F\", \"family\": \"Roboto\", \"size\": 8}, \"text\": \"<i>\\u03a0\\u03b5\\u03c1\\u03b9\\u03bb\\u03b1\\u03bc\\u03b2\\u03ac\\u03bd\\u03bf\\u03bd\\u03c4\\u03b1\\u03b9 \\u03c3\\u03c5\\u03bd\\u03bf\\u03bb\\u03b9\\u03ba\\u03ac 126 \\u03ba\\u03c1\\u03bf\\u03cd\\u03c3\\u03bc\\u03b1\\u03c4\\u03b1 \\u03b1\\u03c0\\u03cc \\u03c4\\u03bf \\u03c0\\u03bb\\u03bf\\u03af\\u03bf \\u00ab\\u0395\\u03bb\\u03b5\\u03c5\\u03b8\\u03ad\\u03c1\\u03b9\\u03bf\\u03c2 \\u0392\\u03b5\\u03bd\\u03b9\\u03b6\\u03ad\\u03bb\\u03bf\\u03c2\\u00bb.</i>\"}, \"zeroline\": true}, \"yaxis\": {\"gridcolor\": \"#F8FAFA\", \"linecolor\": \"#114B5F\", \"linewidth\": 0.1, \"showgrid\": true, \"showline\": true, \"showticklabels\": true, \"tickcolor\": \"#BBBBBB\", \"tickfont\": {\"color\": \"#114B5F\", \"family\": \"Roboto\", \"size\": 12}, \"ticks\": \"outside\", \"title\": {\"font\": {\"color\": \"#114B5F\", \"family\": \"Roboto\", \"size\": 12}, \"text\": \"\\u039a\\u03c5\\u03bb\\u03b9\\u03cc\\u03bc\\u03b5\\u03bd\\u03bf\\u03c2 \\u03bc\\u03ad\\u03c3\\u03bf\\u03c2 \\u03cc\\u03c1\\u03bf\\u03c2 7 \\u03b7\\u03bc\\u03b5\\u03c1\\u03ce\\u03bd\"}, \"zeroline\": false}},\n",
       "                        {\"responsive\": true}\n",
       "                    ).then(function(){\n",
       "                            \n",
       "var gd = document.getElementById('a5aea17e-8df3-4acb-9e96-e6c3486f32a5');\n",
       "var x = new MutationObserver(function (mutations, observer) {{\n",
       "        var display = window.getComputedStyle(gd).display;\n",
       "        if (!display || display === 'none') {{\n",
       "            console.log([gd, 'removed!']);\n",
       "            Plotly.purge(gd);\n",
       "            observer.disconnect();\n",
       "        }}\n",
       "}});\n",
       "\n",
       "// Listen for the removal of the full notebook cells\n",
       "var notebookContainer = gd.closest('#notebook-container');\n",
       "if (notebookContainer) {{\n",
       "    x.observe(notebookContainer, {childList: true});\n",
       "}}\n",
       "\n",
       "// Listen for the clearing of the current output cell\n",
       "var outputEl = gd.closest('.output');\n",
       "if (outputEl) {{\n",
       "    x.observe(outputEl, {childList: true});\n",
       "}}\n",
       "\n",
       "                        })\n",
       "                };\n",
       "                });\n",
       "            </script>\n",
       "        </div>"
      ]
     },
     "metadata": {},
     "output_type": "display_data"
    },
    {
     "data": {
      "application/vnd.plotly.v1+json": {
       "config": {
        "plotlyServerURL": "https://plot.ly"
       },
       "data": [
        {
         "connectgaps": true,
         "line": {
          "shape": "spline",
          "width": 4
         },
         "marker": {
          "color": "#BA3A0A"
         },
         "mode": "lines",
         "type": "scatter",
         "x": [
          "29-Apr",
          "30-Apr",
          "01-May",
          "02-May",
          "03-May",
          "04-May",
          "05-May",
          "06-May",
          "07-May",
          "08-May",
          "09-May",
          "10-May",
          "11-May",
          "12-May",
          "13-May",
          "14-May",
          "15-May",
          "16-May",
          "17-May",
          "18-May",
          "19-May",
          "20-May",
          "21-May",
          "22-May",
          "23-May",
          "24-May",
          "25-May",
          "26-May",
          "27-May",
          "28-May",
          "29-May",
          "30-May",
          "31-May",
          "01-Jun",
          "02-Jun",
          "03-Jun",
          "04-Jun",
          "05-Jun",
          "06-Jun",
          "07-Jun",
          "08-Jun",
          "09-Jun",
          "10-Jun",
          "11-Jun",
          "12-Jun",
          "13-Jun",
          "14-Jun",
          "15-Jun",
          "16-Jun",
          "17-Jun",
          "18-Jun",
          "19-Jun",
          "20-Jun",
          "21-Jun",
          "22-Jun",
          "23-Jun",
          "24-Jun",
          "25-Jun",
          "26-Jun",
          "27-Jun",
          "28-Jun",
          "29-Jun",
          "30-Jun",
          "01-Jul",
          "02-Jul",
          "03-Jul",
          "04-Jul",
          "05-Jul",
          "06-Jul",
          "07-Jul",
          "08-Jul",
          "09-Jul",
          "10-Jul",
          "11-Jul",
          "12-Jul",
          "13-Jul",
          "14-Jul",
          "15-Jul",
          "16-Jul",
          "17-Jul",
          "18-Jul",
          "19-Jul",
          "20-Jul",
          "21-Jul",
          "22-Jul",
          "23-Jul",
          "24-Jul",
          "25-Jul",
          "26-Jul",
          "27-Jul",
          "28-Jul",
          "29-Jul",
          "30-Jul",
          "31-Jul",
          "01-Aug",
          "02-Aug",
          "03-Aug",
          "04-Aug",
          "05-Aug",
          "06-Aug",
          "07-Aug",
          "08-Aug",
          "09-Aug",
          "10-Aug",
          "11-Aug",
          "12-Aug",
          "13-Aug",
          "14-Aug",
          "15-Aug",
          "16-Aug",
          "17-Aug",
          "18-Aug",
          "19-Aug",
          "20-Aug",
          "21-Aug",
          "22-Aug",
          "23-Aug"
         ],
         "y": [
          164,
          166,
          168,
          171,
          172,
          174,
          174,
          174,
          174,
          174,
          174,
          174,
          175,
          176,
          177,
          178,
          179,
          180,
          180,
          181,
          181,
          181,
          181,
          182,
          182,
          182,
          182,
          185,
          187,
          190,
          192,
          195,
          198,
          202,
          204,
          205,
          206,
          207,
          207,
          209,
          213,
          215,
          220,
          224,
          228,
          232,
          236,
          236,
          236,
          237,
          237,
          238,
          240,
          242,
          245,
          248,
          251,
          254,
          258,
          261,
          264,
          266,
          268,
          271,
          274,
          276,
          277,
          280,
          284,
          288,
          293,
          300,
          305,
          311,
          315,
          319,
          325,
          329,
          330,
          334,
          337,
          339,
          341,
          341,
          341,
          341,
          345,
          349,
          354,
          359,
          364,
          370,
          375,
          377,
          382,
          386,
          390,
          395,
          401,
          406,
          411,
          412,
          414,
          415,
          428,
          444,
          463,
          481,
          504,
          528,
          554,
          570,
          585,
          597,
          612,
          627,
          643
         ]
        }
       ],
       "layout": {
        "height": 450,
        "hoverlabel": {
         "font": {
          "family": "Roboto",
          "size": 10
         }
        },
        "hovermode": "closest",
        "legend": {
         "font": {
          "color": "#114B5F",
          "family": "Roboto",
          "size": 12
         }
        },
        "margin": {
         "b": 10,
         "l": 10,
         "pad": 0,
         "r": 10,
         "t": 90
        },
        "paper_bgcolor": "#E6ECEC",
        "plot_bgcolor": "#E6ECEC",
        "showlegend": false,
        "template": {
         "data": {
          "bar": [
           {
            "error_x": {
             "color": "#2a3f5f"
            },
            "error_y": {
             "color": "#2a3f5f"
            },
            "marker": {
             "line": {
              "color": "#E5ECF6",
              "width": 0.5
             }
            },
            "type": "bar"
           }
          ],
          "barpolar": [
           {
            "marker": {
             "line": {
              "color": "#E5ECF6",
              "width": 0.5
             }
            },
            "type": "barpolar"
           }
          ],
          "carpet": [
           {
            "aaxis": {
             "endlinecolor": "#2a3f5f",
             "gridcolor": "white",
             "linecolor": "white",
             "minorgridcolor": "white",
             "startlinecolor": "#2a3f5f"
            },
            "baxis": {
             "endlinecolor": "#2a3f5f",
             "gridcolor": "white",
             "linecolor": "white",
             "minorgridcolor": "white",
             "startlinecolor": "#2a3f5f"
            },
            "type": "carpet"
           }
          ],
          "choropleth": [
           {
            "colorbar": {
             "outlinewidth": 0,
             "ticks": ""
            },
            "type": "choropleth"
           }
          ],
          "contour": [
           {
            "colorbar": {
             "outlinewidth": 0,
             "ticks": ""
            },
            "colorscale": [
             [
              0,
              "#0d0887"
             ],
             [
              0.1111111111111111,
              "#46039f"
             ],
             [
              0.2222222222222222,
              "#7201a8"
             ],
             [
              0.3333333333333333,
              "#9c179e"
             ],
             [
              0.4444444444444444,
              "#bd3786"
             ],
             [
              0.5555555555555556,
              "#d8576b"
             ],
             [
              0.6666666666666666,
              "#ed7953"
             ],
             [
              0.7777777777777778,
              "#fb9f3a"
             ],
             [
              0.8888888888888888,
              "#fdca26"
             ],
             [
              1,
              "#f0f921"
             ]
            ],
            "type": "contour"
           }
          ],
          "contourcarpet": [
           {
            "colorbar": {
             "outlinewidth": 0,
             "ticks": ""
            },
            "type": "contourcarpet"
           }
          ],
          "heatmap": [
           {
            "colorbar": {
             "outlinewidth": 0,
             "ticks": ""
            },
            "colorscale": [
             [
              0,
              "#0d0887"
             ],
             [
              0.1111111111111111,
              "#46039f"
             ],
             [
              0.2222222222222222,
              "#7201a8"
             ],
             [
              0.3333333333333333,
              "#9c179e"
             ],
             [
              0.4444444444444444,
              "#bd3786"
             ],
             [
              0.5555555555555556,
              "#d8576b"
             ],
             [
              0.6666666666666666,
              "#ed7953"
             ],
             [
              0.7777777777777778,
              "#fb9f3a"
             ],
             [
              0.8888888888888888,
              "#fdca26"
             ],
             [
              1,
              "#f0f921"
             ]
            ],
            "type": "heatmap"
           }
          ],
          "heatmapgl": [
           {
            "colorbar": {
             "outlinewidth": 0,
             "ticks": ""
            },
            "colorscale": [
             [
              0,
              "#0d0887"
             ],
             [
              0.1111111111111111,
              "#46039f"
             ],
             [
              0.2222222222222222,
              "#7201a8"
             ],
             [
              0.3333333333333333,
              "#9c179e"
             ],
             [
              0.4444444444444444,
              "#bd3786"
             ],
             [
              0.5555555555555556,
              "#d8576b"
             ],
             [
              0.6666666666666666,
              "#ed7953"
             ],
             [
              0.7777777777777778,
              "#fb9f3a"
             ],
             [
              0.8888888888888888,
              "#fdca26"
             ],
             [
              1,
              "#f0f921"
             ]
            ],
            "type": "heatmapgl"
           }
          ],
          "histogram": [
           {
            "marker": {
             "colorbar": {
              "outlinewidth": 0,
              "ticks": ""
             }
            },
            "type": "histogram"
           }
          ],
          "histogram2d": [
           {
            "colorbar": {
             "outlinewidth": 0,
             "ticks": ""
            },
            "colorscale": [
             [
              0,
              "#0d0887"
             ],
             [
              0.1111111111111111,
              "#46039f"
             ],
             [
              0.2222222222222222,
              "#7201a8"
             ],
             [
              0.3333333333333333,
              "#9c179e"
             ],
             [
              0.4444444444444444,
              "#bd3786"
             ],
             [
              0.5555555555555556,
              "#d8576b"
             ],
             [
              0.6666666666666666,
              "#ed7953"
             ],
             [
              0.7777777777777778,
              "#fb9f3a"
             ],
             [
              0.8888888888888888,
              "#fdca26"
             ],
             [
              1,
              "#f0f921"
             ]
            ],
            "type": "histogram2d"
           }
          ],
          "histogram2dcontour": [
           {
            "colorbar": {
             "outlinewidth": 0,
             "ticks": ""
            },
            "colorscale": [
             [
              0,
              "#0d0887"
             ],
             [
              0.1111111111111111,
              "#46039f"
             ],
             [
              0.2222222222222222,
              "#7201a8"
             ],
             [
              0.3333333333333333,
              "#9c179e"
             ],
             [
              0.4444444444444444,
              "#bd3786"
             ],
             [
              0.5555555555555556,
              "#d8576b"
             ],
             [
              0.6666666666666666,
              "#ed7953"
             ],
             [
              0.7777777777777778,
              "#fb9f3a"
             ],
             [
              0.8888888888888888,
              "#fdca26"
             ],
             [
              1,
              "#f0f921"
             ]
            ],
            "type": "histogram2dcontour"
           }
          ],
          "mesh3d": [
           {
            "colorbar": {
             "outlinewidth": 0,
             "ticks": ""
            },
            "type": "mesh3d"
           }
          ],
          "parcoords": [
           {
            "line": {
             "colorbar": {
              "outlinewidth": 0,
              "ticks": ""
             }
            },
            "type": "parcoords"
           }
          ],
          "pie": [
           {
            "automargin": true,
            "type": "pie"
           }
          ],
          "scatter": [
           {
            "marker": {
             "colorbar": {
              "outlinewidth": 0,
              "ticks": ""
             }
            },
            "type": "scatter"
           }
          ],
          "scatter3d": [
           {
            "line": {
             "colorbar": {
              "outlinewidth": 0,
              "ticks": ""
             }
            },
            "marker": {
             "colorbar": {
              "outlinewidth": 0,
              "ticks": ""
             }
            },
            "type": "scatter3d"
           }
          ],
          "scattercarpet": [
           {
            "marker": {
             "colorbar": {
              "outlinewidth": 0,
              "ticks": ""
             }
            },
            "type": "scattercarpet"
           }
          ],
          "scattergeo": [
           {
            "marker": {
             "colorbar": {
              "outlinewidth": 0,
              "ticks": ""
             }
            },
            "type": "scattergeo"
           }
          ],
          "scattergl": [
           {
            "marker": {
             "colorbar": {
              "outlinewidth": 0,
              "ticks": ""
             }
            },
            "type": "scattergl"
           }
          ],
          "scattermapbox": [
           {
            "marker": {
             "colorbar": {
              "outlinewidth": 0,
              "ticks": ""
             }
            },
            "type": "scattermapbox"
           }
          ],
          "scatterpolar": [
           {
            "marker": {
             "colorbar": {
              "outlinewidth": 0,
              "ticks": ""
             }
            },
            "type": "scatterpolar"
           }
          ],
          "scatterpolargl": [
           {
            "marker": {
             "colorbar": {
              "outlinewidth": 0,
              "ticks": ""
             }
            },
            "type": "scatterpolargl"
           }
          ],
          "scatterternary": [
           {
            "marker": {
             "colorbar": {
              "outlinewidth": 0,
              "ticks": ""
             }
            },
            "type": "scatterternary"
           }
          ],
          "surface": [
           {
            "colorbar": {
             "outlinewidth": 0,
             "ticks": ""
            },
            "colorscale": [
             [
              0,
              "#0d0887"
             ],
             [
              0.1111111111111111,
              "#46039f"
             ],
             [
              0.2222222222222222,
              "#7201a8"
             ],
             [
              0.3333333333333333,
              "#9c179e"
             ],
             [
              0.4444444444444444,
              "#bd3786"
             ],
             [
              0.5555555555555556,
              "#d8576b"
             ],
             [
              0.6666666666666666,
              "#ed7953"
             ],
             [
              0.7777777777777778,
              "#fb9f3a"
             ],
             [
              0.8888888888888888,
              "#fdca26"
             ],
             [
              1,
              "#f0f921"
             ]
            ],
            "type": "surface"
           }
          ],
          "table": [
           {
            "cells": {
             "fill": {
              "color": "#EBF0F8"
             },
             "line": {
              "color": "white"
             }
            },
            "header": {
             "fill": {
              "color": "#C8D4E3"
             },
             "line": {
              "color": "white"
             }
            },
            "type": "table"
           }
          ]
         },
         "layout": {
          "annotationdefaults": {
           "arrowcolor": "#2a3f5f",
           "arrowhead": 0,
           "arrowwidth": 1
          },
          "coloraxis": {
           "colorbar": {
            "outlinewidth": 0,
            "ticks": ""
           }
          },
          "colorscale": {
           "diverging": [
            [
             0,
             "#8e0152"
            ],
            [
             0.1,
             "#c51b7d"
            ],
            [
             0.2,
             "#de77ae"
            ],
            [
             0.3,
             "#f1b6da"
            ],
            [
             0.4,
             "#fde0ef"
            ],
            [
             0.5,
             "#f7f7f7"
            ],
            [
             0.6,
             "#e6f5d0"
            ],
            [
             0.7,
             "#b8e186"
            ],
            [
             0.8,
             "#7fbc41"
            ],
            [
             0.9,
             "#4d9221"
            ],
            [
             1,
             "#276419"
            ]
           ],
           "sequential": [
            [
             0,
             "#0d0887"
            ],
            [
             0.1111111111111111,
             "#46039f"
            ],
            [
             0.2222222222222222,
             "#7201a8"
            ],
            [
             0.3333333333333333,
             "#9c179e"
            ],
            [
             0.4444444444444444,
             "#bd3786"
            ],
            [
             0.5555555555555556,
             "#d8576b"
            ],
            [
             0.6666666666666666,
             "#ed7953"
            ],
            [
             0.7777777777777778,
             "#fb9f3a"
            ],
            [
             0.8888888888888888,
             "#fdca26"
            ],
            [
             1,
             "#f0f921"
            ]
           ],
           "sequentialminus": [
            [
             0,
             "#0d0887"
            ],
            [
             0.1111111111111111,
             "#46039f"
            ],
            [
             0.2222222222222222,
             "#7201a8"
            ],
            [
             0.3333333333333333,
             "#9c179e"
            ],
            [
             0.4444444444444444,
             "#bd3786"
            ],
            [
             0.5555555555555556,
             "#d8576b"
            ],
            [
             0.6666666666666666,
             "#ed7953"
            ],
            [
             0.7777777777777778,
             "#fb9f3a"
            ],
            [
             0.8888888888888888,
             "#fdca26"
            ],
            [
             1,
             "#f0f921"
            ]
           ]
          },
          "colorway": [
           "#636efa",
           "#EF553B",
           "#00cc96",
           "#ab63fa",
           "#FFA15A",
           "#19d3f3",
           "#FF6692",
           "#B6E880",
           "#FF97FF",
           "#FECB52"
          ],
          "font": {
           "color": "#2a3f5f"
          },
          "geo": {
           "bgcolor": "white",
           "lakecolor": "white",
           "landcolor": "#E5ECF6",
           "showlakes": true,
           "showland": true,
           "subunitcolor": "white"
          },
          "hoverlabel": {
           "align": "left"
          },
          "hovermode": "closest",
          "mapbox": {
           "style": "light"
          },
          "paper_bgcolor": "white",
          "plot_bgcolor": "#E5ECF6",
          "polar": {
           "angularaxis": {
            "gridcolor": "white",
            "linecolor": "white",
            "ticks": ""
           },
           "bgcolor": "#E5ECF6",
           "radialaxis": {
            "gridcolor": "white",
            "linecolor": "white",
            "ticks": ""
           }
          },
          "scene": {
           "xaxis": {
            "backgroundcolor": "#E5ECF6",
            "gridcolor": "white",
            "gridwidth": 2,
            "linecolor": "white",
            "showbackground": true,
            "ticks": "",
            "zerolinecolor": "white"
           },
           "yaxis": {
            "backgroundcolor": "#E5ECF6",
            "gridcolor": "white",
            "gridwidth": 2,
            "linecolor": "white",
            "showbackground": true,
            "ticks": "",
            "zerolinecolor": "white"
           },
           "zaxis": {
            "backgroundcolor": "#E5ECF6",
            "gridcolor": "white",
            "gridwidth": 2,
            "linecolor": "white",
            "showbackground": true,
            "ticks": "",
            "zerolinecolor": "white"
           }
          },
          "shapedefaults": {
           "line": {
            "color": "#2a3f5f"
           }
          },
          "ternary": {
           "aaxis": {
            "gridcolor": "white",
            "linecolor": "white",
            "ticks": ""
           },
           "baxis": {
            "gridcolor": "white",
            "linecolor": "white",
            "ticks": ""
           },
           "bgcolor": "#E5ECF6",
           "caxis": {
            "gridcolor": "white",
            "linecolor": "white",
            "ticks": ""
           }
          },
          "title": {
           "x": 0.05
          },
          "xaxis": {
           "automargin": true,
           "gridcolor": "white",
           "linecolor": "white",
           "ticks": "",
           "title": {
            "standoff": 15
           },
           "zerolinecolor": "white",
           "zerolinewidth": 2
          },
          "yaxis": {
           "automargin": true,
           "gridcolor": "white",
           "linecolor": "white",
           "ticks": "",
           "title": {
            "standoff": 15
           },
           "zerolinecolor": "white",
           "zerolinewidth": 2
          }
         }
        },
        "title": {
         "font": {
          "color": "#114B5F",
          "family": "Roboto",
          "size": 16
         },
         "text": "Evolution of <b>non-residents cases</b> in Greece"
        },
        "xaxis": {
         "dtick": 10,
         "gridcolor": "#F8FAFA",
         "linecolor": "#114B5F",
         "linewidth": 0.1,
         "showgrid": false,
         "showline": true,
         "showticklabels": true,
         "tickcolor": "#BBBBBB",
         "tickfont": {
          "color": "#114B5F",
          "family": "Roboto",
          "size": 12
         },
         "ticks": "outside",
         "title": {
          "font": {
           "color": "#114B5F",
           "family": "Roboto",
           "size": 8
          },
          "text": "<i>126 cases on the \"Eleftherios Venizelos\" ferryboat are included.</i>"
         },
         "zeroline": true
        },
        "yaxis": {
         "gridcolor": "#F8FAFA",
         "linecolor": "#114B5F",
         "linewidth": 0.1,
         "showgrid": true,
         "showline": true,
         "showticklabels": true,
         "tickcolor": "#BBBBBB",
         "tickfont": {
          "color": "#114B5F",
          "family": "Roboto",
          "size": 12
         },
         "ticks": "outside",
         "title": {
          "font": {
           "color": "#114B5F",
           "family": "Roboto",
           "size": 12
          },
          "text": "7-day moving average"
         },
         "zeroline": false
        }
       }
      },
      "text/html": [
       "<div>\n",
       "        \n",
       "        \n",
       "            <div id=\"bdb70ba9-fde5-4868-8870-89af7365a801\" class=\"plotly-graph-div\" style=\"height:450px; width:100%;\"></div>\n",
       "            <script type=\"text/javascript\">\n",
       "                require([\"plotly\"], function(Plotly) {\n",
       "                    window.PLOTLYENV=window.PLOTLYENV || {};\n",
       "                    \n",
       "                if (document.getElementById(\"bdb70ba9-fde5-4868-8870-89af7365a801\")) {\n",
       "                    Plotly.newPlot(\n",
       "                        'bdb70ba9-fde5-4868-8870-89af7365a801',\n",
       "                        [{\"connectgaps\": true, \"line\": {\"shape\": \"spline\", \"width\": 4}, \"marker\": {\"color\": \"#BA3A0A\"}, \"mode\": \"lines\", \"type\": \"scatter\", \"x\": [\"29-Apr\", \"30-Apr\", \"01-May\", \"02-May\", \"03-May\", \"04-May\", \"05-May\", \"06-May\", \"07-May\", \"08-May\", \"09-May\", \"10-May\", \"11-May\", \"12-May\", \"13-May\", \"14-May\", \"15-May\", \"16-May\", \"17-May\", \"18-May\", \"19-May\", \"20-May\", \"21-May\", \"22-May\", \"23-May\", \"24-May\", \"25-May\", \"26-May\", \"27-May\", \"28-May\", \"29-May\", \"30-May\", \"31-May\", \"01-Jun\", \"02-Jun\", \"03-Jun\", \"04-Jun\", \"05-Jun\", \"06-Jun\", \"07-Jun\", \"08-Jun\", \"09-Jun\", \"10-Jun\", \"11-Jun\", \"12-Jun\", \"13-Jun\", \"14-Jun\", \"15-Jun\", \"16-Jun\", \"17-Jun\", \"18-Jun\", \"19-Jun\", \"20-Jun\", \"21-Jun\", \"22-Jun\", \"23-Jun\", \"24-Jun\", \"25-Jun\", \"26-Jun\", \"27-Jun\", \"28-Jun\", \"29-Jun\", \"30-Jun\", \"01-Jul\", \"02-Jul\", \"03-Jul\", \"04-Jul\", \"05-Jul\", \"06-Jul\", \"07-Jul\", \"08-Jul\", \"09-Jul\", \"10-Jul\", \"11-Jul\", \"12-Jul\", \"13-Jul\", \"14-Jul\", \"15-Jul\", \"16-Jul\", \"17-Jul\", \"18-Jul\", \"19-Jul\", \"20-Jul\", \"21-Jul\", \"22-Jul\", \"23-Jul\", \"24-Jul\", \"25-Jul\", \"26-Jul\", \"27-Jul\", \"28-Jul\", \"29-Jul\", \"30-Jul\", \"31-Jul\", \"01-Aug\", \"02-Aug\", \"03-Aug\", \"04-Aug\", \"05-Aug\", \"06-Aug\", \"07-Aug\", \"08-Aug\", \"09-Aug\", \"10-Aug\", \"11-Aug\", \"12-Aug\", \"13-Aug\", \"14-Aug\", \"15-Aug\", \"16-Aug\", \"17-Aug\", \"18-Aug\", \"19-Aug\", \"20-Aug\", \"21-Aug\", \"22-Aug\", \"23-Aug\"], \"y\": [164.0, 166.0, 168.0, 171.0, 172.0, 174.0, 174.0, 174.0, 174.0, 174.0, 174.0, 174.0, 175.0, 176.0, 177.0, 178.0, 179.0, 180.0, 180.0, 181.0, 181.0, 181.0, 181.0, 182.0, 182.0, 182.0, 182.0, 185.0, 187.0, 190.0, 192.0, 195.0, 198.0, 202.0, 204.0, 205.0, 206.0, 207.0, 207.0, 209.0, 213.0, 215.0, 220.0, 224.0, 228.0, 232.0, 236.0, 236.0, 236.0, 237.0, 237.0, 238.0, 240.0, 242.0, 245.0, 248.0, 251.0, 254.0, 258.0, 261.0, 264.0, 266.0, 268.0, 271.0, 274.0, 276.0, 277.0, 280.0, 284.0, 288.0, 293.0, 300.0, 305.0, 311.0, 315.0, 319.0, 325.0, 329.0, 330.0, 334.0, 337.0, 339.0, 341.0, 341.0, 341.0, 341.0, 345.0, 349.0, 354.0, 359.0, 364.0, 370.0, 375.0, 377.0, 382.0, 386.0, 390.0, 395.0, 401.0, 406.0, 411.0, 412.0, 414.0, 415.0, 428.0, 444.0, 463.0, 481.0, 504.0, 528.0, 554.0, 570.0, 585.0, 597.0, 612.0, 627.0, 643.0]}],\n",
       "                        {\"height\": 450, \"hoverlabel\": {\"font\": {\"family\": \"Roboto\", \"size\": 10}}, \"hovermode\": \"closest\", \"legend\": {\"font\": {\"color\": \"#114B5F\", \"family\": \"Roboto\", \"size\": 12}}, \"margin\": {\"b\": 10, \"l\": 10, \"pad\": 0, \"r\": 10, \"t\": 90}, \"paper_bgcolor\": \"#E6ECEC\", \"plot_bgcolor\": \"#E6ECEC\", \"showlegend\": false, \"template\": {\"data\": {\"bar\": [{\"error_x\": {\"color\": \"#2a3f5f\"}, \"error_y\": {\"color\": \"#2a3f5f\"}, \"marker\": {\"line\": {\"color\": \"#E5ECF6\", \"width\": 0.5}}, \"type\": \"bar\"}], \"barpolar\": [{\"marker\": {\"line\": {\"color\": \"#E5ECF6\", \"width\": 0.5}}, \"type\": \"barpolar\"}], \"carpet\": [{\"aaxis\": {\"endlinecolor\": \"#2a3f5f\", \"gridcolor\": \"white\", \"linecolor\": \"white\", \"minorgridcolor\": \"white\", \"startlinecolor\": \"#2a3f5f\"}, \"baxis\": {\"endlinecolor\": \"#2a3f5f\", \"gridcolor\": \"white\", \"linecolor\": \"white\", \"minorgridcolor\": \"white\", \"startlinecolor\": \"#2a3f5f\"}, \"type\": \"carpet\"}], \"choropleth\": [{\"colorbar\": {\"outlinewidth\": 0, \"ticks\": \"\"}, \"type\": \"choropleth\"}], \"contour\": [{\"colorbar\": {\"outlinewidth\": 0, \"ticks\": \"\"}, \"colorscale\": [[0.0, \"#0d0887\"], [0.1111111111111111, \"#46039f\"], [0.2222222222222222, \"#7201a8\"], [0.3333333333333333, \"#9c179e\"], [0.4444444444444444, \"#bd3786\"], [0.5555555555555556, \"#d8576b\"], [0.6666666666666666, \"#ed7953\"], [0.7777777777777778, \"#fb9f3a\"], [0.8888888888888888, \"#fdca26\"], [1.0, \"#f0f921\"]], \"type\": \"contour\"}], \"contourcarpet\": [{\"colorbar\": {\"outlinewidth\": 0, \"ticks\": \"\"}, \"type\": \"contourcarpet\"}], \"heatmap\": [{\"colorbar\": {\"outlinewidth\": 0, \"ticks\": \"\"}, \"colorscale\": [[0.0, \"#0d0887\"], [0.1111111111111111, \"#46039f\"], [0.2222222222222222, \"#7201a8\"], [0.3333333333333333, \"#9c179e\"], [0.4444444444444444, \"#bd3786\"], [0.5555555555555556, \"#d8576b\"], [0.6666666666666666, \"#ed7953\"], [0.7777777777777778, \"#fb9f3a\"], [0.8888888888888888, \"#fdca26\"], [1.0, \"#f0f921\"]], \"type\": \"heatmap\"}], \"heatmapgl\": [{\"colorbar\": {\"outlinewidth\": 0, \"ticks\": \"\"}, \"colorscale\": [[0.0, \"#0d0887\"], [0.1111111111111111, \"#46039f\"], [0.2222222222222222, \"#7201a8\"], [0.3333333333333333, \"#9c179e\"], [0.4444444444444444, \"#bd3786\"], [0.5555555555555556, \"#d8576b\"], [0.6666666666666666, \"#ed7953\"], [0.7777777777777778, \"#fb9f3a\"], [0.8888888888888888, \"#fdca26\"], [1.0, \"#f0f921\"]], \"type\": \"heatmapgl\"}], \"histogram\": [{\"marker\": {\"colorbar\": {\"outlinewidth\": 0, \"ticks\": \"\"}}, \"type\": \"histogram\"}], \"histogram2d\": [{\"colorbar\": {\"outlinewidth\": 0, \"ticks\": \"\"}, \"colorscale\": [[0.0, \"#0d0887\"], [0.1111111111111111, \"#46039f\"], [0.2222222222222222, \"#7201a8\"], [0.3333333333333333, \"#9c179e\"], [0.4444444444444444, \"#bd3786\"], [0.5555555555555556, \"#d8576b\"], [0.6666666666666666, \"#ed7953\"], [0.7777777777777778, \"#fb9f3a\"], [0.8888888888888888, \"#fdca26\"], [1.0, \"#f0f921\"]], \"type\": \"histogram2d\"}], \"histogram2dcontour\": [{\"colorbar\": {\"outlinewidth\": 0, \"ticks\": \"\"}, \"colorscale\": [[0.0, \"#0d0887\"], [0.1111111111111111, \"#46039f\"], [0.2222222222222222, \"#7201a8\"], [0.3333333333333333, \"#9c179e\"], [0.4444444444444444, \"#bd3786\"], [0.5555555555555556, \"#d8576b\"], [0.6666666666666666, \"#ed7953\"], [0.7777777777777778, \"#fb9f3a\"], [0.8888888888888888, \"#fdca26\"], [1.0, \"#f0f921\"]], \"type\": \"histogram2dcontour\"}], \"mesh3d\": [{\"colorbar\": {\"outlinewidth\": 0, \"ticks\": \"\"}, \"type\": \"mesh3d\"}], \"parcoords\": [{\"line\": {\"colorbar\": {\"outlinewidth\": 0, \"ticks\": \"\"}}, \"type\": \"parcoords\"}], \"pie\": [{\"automargin\": true, \"type\": \"pie\"}], \"scatter\": [{\"marker\": {\"colorbar\": {\"outlinewidth\": 0, \"ticks\": \"\"}}, \"type\": \"scatter\"}], \"scatter3d\": [{\"line\": {\"colorbar\": {\"outlinewidth\": 0, \"ticks\": \"\"}}, \"marker\": {\"colorbar\": {\"outlinewidth\": 0, \"ticks\": \"\"}}, \"type\": \"scatter3d\"}], \"scattercarpet\": [{\"marker\": {\"colorbar\": {\"outlinewidth\": 0, \"ticks\": \"\"}}, \"type\": \"scattercarpet\"}], \"scattergeo\": [{\"marker\": {\"colorbar\": {\"outlinewidth\": 0, \"ticks\": \"\"}}, \"type\": \"scattergeo\"}], \"scattergl\": [{\"marker\": {\"colorbar\": {\"outlinewidth\": 0, \"ticks\": \"\"}}, \"type\": \"scattergl\"}], \"scattermapbox\": [{\"marker\": {\"colorbar\": {\"outlinewidth\": 0, \"ticks\": \"\"}}, \"type\": \"scattermapbox\"}], \"scatterpolar\": [{\"marker\": {\"colorbar\": {\"outlinewidth\": 0, \"ticks\": \"\"}}, \"type\": \"scatterpolar\"}], \"scatterpolargl\": [{\"marker\": {\"colorbar\": {\"outlinewidth\": 0, \"ticks\": \"\"}}, \"type\": \"scatterpolargl\"}], \"scatterternary\": [{\"marker\": {\"colorbar\": {\"outlinewidth\": 0, \"ticks\": \"\"}}, \"type\": \"scatterternary\"}], \"surface\": [{\"colorbar\": {\"outlinewidth\": 0, \"ticks\": \"\"}, \"colorscale\": [[0.0, \"#0d0887\"], [0.1111111111111111, \"#46039f\"], [0.2222222222222222, \"#7201a8\"], [0.3333333333333333, \"#9c179e\"], [0.4444444444444444, \"#bd3786\"], [0.5555555555555556, \"#d8576b\"], [0.6666666666666666, \"#ed7953\"], [0.7777777777777778, \"#fb9f3a\"], [0.8888888888888888, \"#fdca26\"], [1.0, \"#f0f921\"]], \"type\": \"surface\"}], \"table\": [{\"cells\": {\"fill\": {\"color\": \"#EBF0F8\"}, \"line\": {\"color\": \"white\"}}, \"header\": {\"fill\": {\"color\": \"#C8D4E3\"}, \"line\": {\"color\": \"white\"}}, \"type\": \"table\"}]}, \"layout\": {\"annotationdefaults\": {\"arrowcolor\": \"#2a3f5f\", \"arrowhead\": 0, \"arrowwidth\": 1}, \"coloraxis\": {\"colorbar\": {\"outlinewidth\": 0, \"ticks\": \"\"}}, \"colorscale\": {\"diverging\": [[0, \"#8e0152\"], [0.1, \"#c51b7d\"], [0.2, \"#de77ae\"], [0.3, \"#f1b6da\"], [0.4, \"#fde0ef\"], [0.5, \"#f7f7f7\"], [0.6, \"#e6f5d0\"], [0.7, \"#b8e186\"], [0.8, \"#7fbc41\"], [0.9, \"#4d9221\"], [1, \"#276419\"]], \"sequential\": [[0.0, \"#0d0887\"], [0.1111111111111111, \"#46039f\"], [0.2222222222222222, \"#7201a8\"], [0.3333333333333333, \"#9c179e\"], [0.4444444444444444, \"#bd3786\"], [0.5555555555555556, \"#d8576b\"], [0.6666666666666666, \"#ed7953\"], [0.7777777777777778, \"#fb9f3a\"], [0.8888888888888888, \"#fdca26\"], [1.0, \"#f0f921\"]], \"sequentialminus\": [[0.0, \"#0d0887\"], [0.1111111111111111, \"#46039f\"], [0.2222222222222222, \"#7201a8\"], [0.3333333333333333, \"#9c179e\"], [0.4444444444444444, \"#bd3786\"], [0.5555555555555556, \"#d8576b\"], [0.6666666666666666, \"#ed7953\"], [0.7777777777777778, \"#fb9f3a\"], [0.8888888888888888, \"#fdca26\"], [1.0, \"#f0f921\"]]}, \"colorway\": [\"#636efa\", \"#EF553B\", \"#00cc96\", \"#ab63fa\", \"#FFA15A\", \"#19d3f3\", \"#FF6692\", \"#B6E880\", \"#FF97FF\", \"#FECB52\"], \"font\": {\"color\": \"#2a3f5f\"}, \"geo\": {\"bgcolor\": \"white\", \"lakecolor\": \"white\", \"landcolor\": \"#E5ECF6\", \"showlakes\": true, \"showland\": true, \"subunitcolor\": \"white\"}, \"hoverlabel\": {\"align\": \"left\"}, \"hovermode\": \"closest\", \"mapbox\": {\"style\": \"light\"}, \"paper_bgcolor\": \"white\", \"plot_bgcolor\": \"#E5ECF6\", \"polar\": {\"angularaxis\": {\"gridcolor\": \"white\", \"linecolor\": \"white\", \"ticks\": \"\"}, \"bgcolor\": \"#E5ECF6\", \"radialaxis\": {\"gridcolor\": \"white\", \"linecolor\": \"white\", \"ticks\": \"\"}}, \"scene\": {\"xaxis\": {\"backgroundcolor\": \"#E5ECF6\", \"gridcolor\": \"white\", \"gridwidth\": 2, \"linecolor\": \"white\", \"showbackground\": true, \"ticks\": \"\", \"zerolinecolor\": \"white\"}, \"yaxis\": {\"backgroundcolor\": \"#E5ECF6\", \"gridcolor\": \"white\", \"gridwidth\": 2, \"linecolor\": \"white\", \"showbackground\": true, \"ticks\": \"\", \"zerolinecolor\": \"white\"}, \"zaxis\": {\"backgroundcolor\": \"#E5ECF6\", \"gridcolor\": \"white\", \"gridwidth\": 2, \"linecolor\": \"white\", \"showbackground\": true, \"ticks\": \"\", \"zerolinecolor\": \"white\"}}, \"shapedefaults\": {\"line\": {\"color\": \"#2a3f5f\"}}, \"ternary\": {\"aaxis\": {\"gridcolor\": \"white\", \"linecolor\": \"white\", \"ticks\": \"\"}, \"baxis\": {\"gridcolor\": \"white\", \"linecolor\": \"white\", \"ticks\": \"\"}, \"bgcolor\": \"#E5ECF6\", \"caxis\": {\"gridcolor\": \"white\", \"linecolor\": \"white\", \"ticks\": \"\"}}, \"title\": {\"x\": 0.05}, \"xaxis\": {\"automargin\": true, \"gridcolor\": \"white\", \"linecolor\": \"white\", \"ticks\": \"\", \"title\": {\"standoff\": 15}, \"zerolinecolor\": \"white\", \"zerolinewidth\": 2}, \"yaxis\": {\"automargin\": true, \"gridcolor\": \"white\", \"linecolor\": \"white\", \"ticks\": \"\", \"title\": {\"standoff\": 15}, \"zerolinecolor\": \"white\", \"zerolinewidth\": 2}}}, \"title\": {\"font\": {\"color\": \"#114B5F\", \"family\": \"Roboto\", \"size\": 16}, \"text\": \"Evolution of <b>non-residents cases</b> in Greece\"}, \"xaxis\": {\"dtick\": 10, \"gridcolor\": \"#F8FAFA\", \"linecolor\": \"#114B5F\", \"linewidth\": 0.1, \"showgrid\": false, \"showline\": true, \"showticklabels\": true, \"tickcolor\": \"#BBBBBB\", \"tickfont\": {\"color\": \"#114B5F\", \"family\": \"Roboto\", \"size\": 12}, \"ticks\": \"outside\", \"title\": {\"font\": {\"color\": \"#114B5F\", \"family\": \"Roboto\", \"size\": 8}, \"text\": \"<i>126 cases on the \\\"Eleftherios Venizelos\\\" ferryboat are included.</i>\"}, \"zeroline\": true}, \"yaxis\": {\"gridcolor\": \"#F8FAFA\", \"linecolor\": \"#114B5F\", \"linewidth\": 0.1, \"showgrid\": true, \"showline\": true, \"showticklabels\": true, \"tickcolor\": \"#BBBBBB\", \"tickfont\": {\"color\": \"#114B5F\", \"family\": \"Roboto\", \"size\": 12}, \"ticks\": \"outside\", \"title\": {\"font\": {\"color\": \"#114B5F\", \"family\": \"Roboto\", \"size\": 12}, \"text\": \"7-day moving average\"}, \"zeroline\": false}},\n",
       "                        {\"responsive\": true}\n",
       "                    ).then(function(){\n",
       "                            \n",
       "var gd = document.getElementById('bdb70ba9-fde5-4868-8870-89af7365a801');\n",
       "var x = new MutationObserver(function (mutations, observer) {{\n",
       "        var display = window.getComputedStyle(gd).display;\n",
       "        if (!display || display === 'none') {{\n",
       "            console.log([gd, 'removed!']);\n",
       "            Plotly.purge(gd);\n",
       "            observer.disconnect();\n",
       "        }}\n",
       "}});\n",
       "\n",
       "// Listen for the removal of the full notebook cells\n",
       "var notebookContainer = gd.closest('#notebook-container');\n",
       "if (notebookContainer) {{\n",
       "    x.observe(notebookContainer, {childList: true});\n",
       "}}\n",
       "\n",
       "// Listen for the clearing of the current output cell\n",
       "var outputEl = gd.closest('.output');\n",
       "if (outputEl) {{\n",
       "    x.observe(outputEl, {childList: true});\n",
       "}}\n",
       "\n",
       "                        })\n",
       "                };\n",
       "                });\n",
       "            </script>\n",
       "        </div>"
      ]
     },
     "metadata": {},
     "output_type": "display_data"
    }
   ],
   "source": [
    "regions_greece_cases = pd.read_csv(\n",
    "    'https://raw.githubusercontent.com/iMEdD-Lab/open-data/master/COVID-19/regions_greece_cases.csv'\n",
    "    )\n",
    "    \n",
    "\n",
    "create_non_residents_line(\n",
    "        'create_non_residents_line', regions_greece_cases)\n",
    "\n",
    "\n",
    "create_non_residents_line(\n",
    "        \"create_non_residents_line\",\n",
    "        regions_greece_cases,\n",
    "        lang=\"EN\",\n",
    "    )"
   ]
  },
  {
   "cell_type": "code",
   "execution_count": null,
   "metadata": {},
   "outputs": [],
   "source": []
  },
  {
   "cell_type": "code",
   "execution_count": null,
   "metadata": {},
   "outputs": [],
   "source": []
  },
  {
   "cell_type": "code",
   "execution_count": null,
   "metadata": {},
   "outputs": [],
   "source": []
  },
  {
   "cell_type": "code",
   "execution_count": 62,
   "metadata": {},
   "outputs": [],
   "source": [
    "def after100Cases(\n",
    "    data,\n",
    "    countries_data,\n",
    "    population,\n",
    "    numberCompare,\n",
    "    columnName,\n",
    "    outputName,\n",
    "    titleGraphic,\n",
    "    keyWordHover,\n",
    "    xAxis,\n",
    "    yAxis,\n",
    "    show=False,\n",
    "    lang=\"EL\",\n",
    "):\n",
    "    \"\"\" φορτώνουμε το πρώτο αρχείο από το Hopkins\"\"\"\n",
    "    df = (\n",
    "        data.drop([\"Lat\", \"Long\"], axis=1)\n",
    "        .melt(\n",
    "            id_vars=[\"Province/State\", \"Country/Region\"],\n",
    "            var_name=\"Date\",\n",
    "            value_name=columnName,\n",
    "        )\n",
    "        .astype({\"Date\": \"datetime64[ns]\", columnName: \"Int64\"}, errors=\"ignore\")\n",
    "    )\n",
    "\n",
    "    \"\"\" φορτώνουμε το αρχείο με την αντιστοίχιση ελληνικών - αγγλικών ονομάτων χωρών\"\"\"\n",
    "    gr = countries_data\n",
    "    \"\"\" το συνδέουμε με το dataframe από το Hopkins ώστε να προστεθεί το ADMIN_GR\"\"\"\n",
    "    df = pd.merge(df, gr, how=\"left\", left_on=\"Country/Region\", right_on=\"ADMIN\")\n",
    "\n",
    "    \"\"\" φορτώνουμε το αρχείο με τους πληθυσμούς\"\"\"\n",
    "    pop = population\n",
    "    \"\"\"συνδέουμε το dataframe με τα ελληνικά ονόματα \"\"\"\n",
    "    gr = pd.merge(gr, pop, how=\"right\", left_on=\"ADMIN\", right_on=\"Country,Other\")\n",
    "\n",
    "    \"\"\"Ενώνουμε το dataframe του Hopkins και εκείνο του population με βάση την στήλη με τα ελληνικά ονόματα\"\"\"\n",
    "    df = pd.merge(df, gr, how=\"left\", on=\"ADMIN_GR\")\n",
    "\n",
    "    \"\"\" υπολογίζουμε συγκεντρωτικά για κάθε χώρα τα κρούσματα και τους θανάτους ανά ημέρα\"\"\"\n",
    "    df = (\n",
    "        df.groupby([\"Country/Region\", \"Date\", \"ADMIN_GR\", \"Population (2020)\"])[\n",
    "            columnName\n",
    "        ]\n",
    "        .sum()\n",
    "        .reset_index()\n",
    "    )\n",
    "\n",
    "    \"\"\" ------------------- ΞΕΚΙΝΑ Η ΟΠΤΙΚΟΠΟΙΗΣΗ ------------------\"\"\"\n",
    "\n",
    "    \"\"\" Φτιάχνουμε ένα variable που ΔΕΝ ΘΑ ΠΕΡΙΕΧΕΙ τις χώρες αναφοράς - που θα χρωματίσουμε με άλλο χρώμα\"\"\"\n",
    "    cnt = df[\n",
    "        (df[\"Country/Region\"] != \"Greece\")\n",
    "        & (df[\"Country/Region\"] != \"Germany\")\n",
    "        & (df[\"Country/Region\"] != \"Italy\")\n",
    "        & (df[\"Country/Region\"] != \"United Kingdom\")\n",
    "        & (df[\"Country/Region\"] != \"US\")\n",
    "        & (df[\"Country/Region\"] != \"Spain\")\n",
    "        & (df[\"Country/Region\"] != \"China\")\n",
    "    ]\n",
    "\n",
    "    if lang == 'EL':\n",
    "        fig = px.line(\n",
    "            cnt[\n",
    "                (cnt[\"Country/Region\"] != \"Diamond Princess\")\n",
    "                & (cnt[columnName] >= numberCompare)\n",
    "            ],\n",
    "            y=columnName,\n",
    "            color=\"ADMIN_GR\",\n",
    "            hover_data=[\"ADMIN_GR\"],\n",
    "            labels={\"Date\": \"Ημερομηνία\", columnName: keyWordHover, \"ADMIN_GR\": \"Χώρα\"},\n",
    "            title=titleGraphic,\n",
    "            line_shape=\"spline\",\n",
    "            render_mode=\"svg\",\n",
    "            color_discrete_sequence=[\"rgb(189,189,189)\"],\n",
    "        )\n",
    "    else:\n",
    "        fig = px.line(\n",
    "            cnt[\n",
    "                (cnt[\"Country/Region\"] != \"Diamond Princess\")\n",
    "                & (cnt[columnName] >= numberCompare)\n",
    "            ],\n",
    "            y=columnName,\n",
    "            color=\"Country/Region\",\n",
    "            hover_data=[\"Country/Region\"],\n",
    "            labels={\"Date\": \"Date\", columnName: keyWordHover, \"Country/Region\": \"Country\"},\n",
    "            title=titleGraphic,\n",
    "            line_shape=\"spline\",\n",
    "            render_mode=\"svg\",\n",
    "            color_discrete_sequence=[\"rgb(189,189,189)\"]\n",
    "        )\n",
    "\n",
    "    fig.update_layout(\n",
    "        paper_bgcolor=\"#E6ECEC\",\n",
    "        plot_bgcolor=\"#E6ECEC\",\n",
    "        font=dict(family=\"Roboto\", size=11, color=\"#114B5F\"),\n",
    "    )\n",
    "\n",
    "    fig.update_layout(\n",
    "        hovermode=\"closest\",\n",
    "        hoverlabel=dict(bgcolor=\"white\", font_size=12, font_family=\"Roboto\"),\n",
    "        hoverlabel_align=\"left\",\n",
    "    )\n",
    "\n",
    "    fig.update_layout(showlegend=True)\n",
    "    fig.update_layout(\n",
    "        legend_title=\"Διπλό κλικ σε κάθε<br>χώρα για να την <br>απομονώσετε<br>\" if lang == 'EL'\n",
    "        else 'Double click<br>to select each<br>country',\n",
    "        legend=dict(\n",
    "            traceorder=\"reversed\",\n",
    "            font=dict(family=\"roboto\", size=10, color=\"black\"),\n",
    "            bgcolor=\"#E6ECEC\",\n",
    "            bordercolor=\"#dadada\",\n",
    "            borderwidth=0.3,\n",
    "        ),\n",
    "    )\n",
    "\n",
    "    fig.update_yaxes(\n",
    "        nticks=4,\n",
    "        showticklabels=True,\n",
    "        showline=True,\n",
    "        linewidth=2,\n",
    "        linecolor=\"#114B5F\",\n",
    "        showgrid=True,\n",
    "        gridwidth=0.1,\n",
    "        gridcolor=\"#F8FAFA\",\n",
    "        title_text=yAxis,\n",
    "        title_font={\"size\": 11, \"color\": \"#114B5F\"},\n",
    "    )\n",
    "\n",
    "    fig.update_xaxes(\n",
    "        ticks=None,\n",
    "        showticklabels=True,\n",
    "        showline=False,\n",
    "        linewidth=0.1,\n",
    "        linecolor=\"#F8FAFA\",\n",
    "        showgrid=True,\n",
    "        gridwidth=0.1,\n",
    "        gridcolor=\"#F8FAFA\",\n",
    "        title_text=xAxis,\n",
    "        title_font={\"size\": 11, \"color\": \"#114B5F\"},\n",
    "    )\n",
    "\n",
    "    fig.update_layout(xaxis_showgrid=True, yaxis_showgrid=True)\n",
    "\n",
    "    fig.update_layout(yaxis_type=\"log\")\n",
    "\n",
    "    fig.update_layout(height=380)\n",
    "\n",
    "    # Γερμανία\n",
    "    if lang == 'EL':\n",
    "        fig.add_trace(\n",
    "            go.Scatter(\n",
    "                y=df[\n",
    "                    (df[\"Country/Region\"] == \"Germany\") & (df[columnName] > numberCompare)\n",
    "                ][columnName],\n",
    "                name=\"Γερμανία\",\n",
    "                line=dict(color=\"black\", width=2),\n",
    "                hovertemplate=\"<b>{}</b> στην Γερμανία<extra></extra>\".format(\n",
    "                    \"%{y:.f} \" + keyWordHover \n",
    "                ),\n",
    "            )\n",
    "        )\n",
    "    \n",
    "    else:\n",
    "        fig.add_trace(\n",
    "        go.Scatter(\n",
    "            y=df[\n",
    "                (df[\"Country/Region\"] == \"Germany\") & (df[columnName] > numberCompare)\n",
    "            ][columnName],\n",
    "            name=\"Germany\",\n",
    "            line=dict(color=\"black\", width=2),\n",
    "            hovertemplate=\"<b>{}</b> in Germany <extra></extra>\".format(\n",
    "                \"%{y:.f} \" + keyWordHover \n",
    "            ),\n",
    "        )\n",
    "    )\n",
    "\n",
    "    # Ιταλία\n",
    "    if lang == 'EL':\n",
    "        fig.add_trace(\n",
    "            go.Scatter(\n",
    "                y=df[(df[\"Country/Region\"] == \"Italy\") & (df[columnName] > numberCompare)][\n",
    "                    columnName\n",
    "                ],\n",
    "                name=\"Ιταλία\",\n",
    "                line=dict(color=\"#3E82B3\", width=2),\n",
    "                hovertemplate=\"<b>{}</b> στην Ιταλία<extra></extra>\".format(\n",
    "                    \"%{y:.f} \" + keyWordHover\n",
    "                ),\n",
    "            )\n",
    "        )\n",
    "    \n",
    "    else:\n",
    "        fig.add_trace(\n",
    "        go.Scatter(\n",
    "            y=df[(df[\"Country/Region\"] == \"Italy\") & (df[columnName] > numberCompare)][\n",
    "                columnName\n",
    "            ],\n",
    "            name=\"Italy\",\n",
    "            line=dict(color=\"#3E82B3\", width=2),\n",
    "            hovertemplate=\"<b>{}</b> in Italy <extra></extra>\".format(\n",
    "                \"%{y:.f} \" + keyWordHover\n",
    "            ),\n",
    "        )\n",
    "    )\n",
    "\n",
    "    # UK\n",
    "    if lang == 'EL':\n",
    "        fig.add_trace(\n",
    "            go.Scatter(\n",
    "                y=df[\n",
    "                    (df[\"Country/Region\"] == \"United Kingdom\")\n",
    "                    & (df[columnName] > numberCompare)\n",
    "                ][columnName],\n",
    "                name=\"Ηνωμένο Βασίλειο\",\n",
    "                line=dict(color=\"#FFD400\", width=2),\n",
    "                hovertemplate=\"<b>{}</b> στο Ηνωμένο Βασίλειο<extra></extra>\".format(\n",
    "                    \"%{y:.f} \" + keyWordHover\n",
    "                ),\n",
    "            )\n",
    "        )\n",
    "    else:\n",
    "        fig.add_trace(\n",
    "        go.Scatter(\n",
    "            y=df[\n",
    "                (df[\"Country/Region\"] == \"United Kingdom\")\n",
    "                & (df[columnName] > numberCompare)\n",
    "            ][columnName],\n",
    "            name=\"United Kingdom\",\n",
    "            line=dict(color=\"#FFD400\", width=2),\n",
    "            hovertemplate=\"<b>{}</b> in United Kingdom <extra></extra>\".format(\n",
    "                \"%{y:.f} \" + keyWordHover\n",
    "            ),\n",
    "        )\n",
    "    )\n",
    "\n",
    "    # USA\n",
    "    if lang == 'EL':\n",
    "        fig.add_trace(\n",
    "            go.Scatter(\n",
    "                y=df[(df[\"Country/Region\"] == \"US\") & (df[columnName] > numberCompare)][\n",
    "                    columnName\n",
    "                ],\n",
    "                name=\"ΗΠΑ\",\n",
    "                line=dict(color=\"lightgreen\", width=2),\n",
    "                hovertemplate=\"<b>{}</b> στις ΗΠΑ<extra></extra>\".format(\n",
    "                    \"%{y:.f} \" + keyWordHover\n",
    "                ),\n",
    "            )\n",
    "        )\n",
    "    else:\n",
    "        fig.add_trace(\n",
    "        go.Scatter(\n",
    "            y=df[(df[\"Country/Region\"] == \"US\") & (df[columnName] > numberCompare)][\n",
    "                columnName\n",
    "            ],\n",
    "            name=\"USA\",\n",
    "            line=dict(color=\"lightgreen\", width=2),\n",
    "            hovertemplate=\"<b>{}</b> in USA <extra></extra>\".format(\n",
    "                \"%{y:.f} \" + keyWordHover\n",
    "            ),\n",
    "        )\n",
    "    )\n",
    "        \n",
    "    # Spain\n",
    "    if lang == 'EL':\n",
    "        fig.add_trace(\n",
    "            go.Scatter(\n",
    "                y=df[(df[\"Country/Region\"] == \"Spain\") & (df[columnName] > numberCompare)][\n",
    "                    columnName\n",
    "                ],\n",
    "                name=\"Ισπανία\",\n",
    "                line=dict(color=\"purple\", width=2),\n",
    "                hovertemplate=\"<b>{}</b> στην Ισπανία<extra></extra>\".format(\n",
    "                    \"%{y:.f} \" + keyWordHover\n",
    "                ),\n",
    "            )\n",
    "        )\n",
    "        \n",
    "    else:\n",
    "        fig.add_trace(\n",
    "        go.Scatter(\n",
    "            y=df[(df[\"Country/Region\"] == \"Spain\") & (df[columnName] > numberCompare)][\n",
    "                columnName\n",
    "            ],\n",
    "            name=\"Spain\",\n",
    "            line=dict(color=\"purple\", width=2),\n",
    "            hovertemplate=\"<b>{}</b> in Spain <extra></extra>\".format(\n",
    "                \"%{y:.f} \" + keyWordHover\n",
    "            ),\n",
    "        )\n",
    "    )\n",
    "    \n",
    "    # Greece\n",
    "    \n",
    "    temp = \"<b>{}</b> στην Ελλάδα<extra></extra>\"\n",
    "    temp_en=\"<b>{}</b> in Greece<extra></extra>\"\n",
    "    \n",
    "    fig.add_trace(\n",
    "        go.Scatter(\n",
    "            y=df[(df[\"Country/Region\"] == \"Greece\") & (df[columnName] > numberCompare)][\n",
    "                columnName\n",
    "            ],\n",
    "            name=\"Ελλάδα\" if lang == 'EL' else 'Greece',\n",
    "            line=dict(color=\"#BA3A0A\", width=3),\n",
    "            hovertemplate=(temp if lang == 'EL' else temp_en).format(\n",
    "                \"%{y:.f} \" + keyWordHover\n",
    "            ),\n",
    "        )\n",
    "    )\n",
    "\n",
    "    # μέγεθος γραμμής σε κάθε χώρα στο legend, trace/constant\n",
    "    fig.update_layout(\n",
    "        legend={\"itemsizing\": \"constant\"},\n",
    "        annotations=[\n",
    "            dict(\n",
    "                x=0,\n",
    "                y=1,\n",
    "                xref=\"paper\",\n",
    "                yref=\"paper\",\n",
    "                text=\"Δεν περιλαμβάνεται η Κίνα.<br><i>Λογαριθμική κλίμακα</i>\" if lang == 'EL'\n",
    "                else 'China is not included<br><i>Logarithmic scale',\n",
    "                showarrow=False,\n",
    "                align=\"left\",\n",
    "            )\n",
    "        ],\n",
    "    )\n",
    "    fig.update_layout(height=380, margin=dict(l=10, r=10, b=10, t=65, pad=10))\n",
    "\n",
    "    if show:\n",
    "        config = dict(\n",
    "            {\n",
    "                \"displayModeBar\": True,\n",
    "                \"scrollZoom\": False,\n",
    "                \"displaylogo\": False,\n",
    "                \"responsive\": True,\n",
    "                \"staticPlot\": False,\n",
    "            }\n",
    "        )\n",
    "        fig.show(config=config)\n",
    "    if lang == 'EL':\n",
    "        fig.write_json(outputName + \".json\")\n",
    "    fig.write_json(outputName + \"_\" + lang + \".json\")"
   ]
  },
  {
   "cell_type": "code",
   "execution_count": 63,
   "metadata": {},
   "outputs": [],
   "source": [
    "after100Cases(\n",
    "        deaths_H_df,\n",
    "        countries_df,\n",
    "        population_df,\n",
    "        10,\n",
    "        \"deaths\",\n",
    "        \"10_deaths\",\n",
    "        \"Εξέλιξη <b>θανάτων</b> μετά τους πρώτους 10\",\n",
    "        \"θάνατοι\",\n",
    "        \"Ημέρες από τον 10ο θάνατο\",\n",
    "        \"Αριθμός θανάτων\",\n",
    "    )\n",
    "after100Cases(\n",
    "        deaths_H_df,\n",
    "        countries_df,\n",
    "        population_df,\n",
    "        10,\n",
    "        \"deaths\",\n",
    "        \"10_deaths\",\n",
    "        \"Cumulative number of <b>deaths</b><br>by number of days since 10 deaths\",\n",
    "        \"deaths\",\n",
    "        \"Days from 10th recorded death\",\n",
    "        \"Number of deaths\",\n",
    "        lang=\"EN\"\n",
    "    )\n",
    "\n",
    "after100Cases(\n",
    "        confirmed_H_df,\n",
    "        countries_df,\n",
    "        population_df,\n",
    "        100,\n",
    "        \"cases\",\n",
    "        \"100_cases\",\n",
    "        \"Εξέλιξη <b>κρουσμάτων</b> μετά τα πρώτα 100\",\n",
    "        \"κρούσματα\",\n",
    "        \"Ημέρες από το 100ο κρούσμα\",\n",
    "        \"Αριθμός κρουσμάτων\",\n",
    "    )\n",
    "after100Cases(\n",
    "        confirmed_H_df,\n",
    "        countries_df,\n",
    "        population_df,\n",
    "        100,\n",
    "        \"cases\",\n",
    "        \"100_cases\",\n",
    "        \"Cumulative number of <b>cases</b><br>by number of days since 100 cases\",\n",
    "        \"cases\",\n",
    "        \"Days from 100th recorded case\",\n",
    "        \"Number of cases\",\n",
    "        lang=\"EN\"\n",
    "    )"
   ]
  },
  {
   "cell_type": "code",
   "execution_count": null,
   "metadata": {},
   "outputs": [],
   "source": []
  },
  {
   "cell_type": "code",
   "execution_count": null,
   "metadata": {},
   "outputs": [],
   "source": []
  },
  {
   "cell_type": "code",
   "execution_count": null,
   "metadata": {},
   "outputs": [],
   "source": []
  },
  {
   "cell_type": "code",
   "execution_count": null,
   "metadata": {},
   "outputs": [],
   "source": []
  }
 ],
 "metadata": {
  "kernelspec": {
   "display_name": "Python 3",
   "language": "python",
   "name": "python3"
  },
  "language_info": {
   "codemirror_mode": {
    "name": "ipython",
    "version": 3
   },
   "file_extension": ".py",
   "mimetype": "text/x-python",
   "name": "python",
   "nbconvert_exporter": "python",
   "pygments_lexer": "ipython3",
   "version": "3.8.2"
  }
 },
 "nbformat": 4,
 "nbformat_minor": 4
}
